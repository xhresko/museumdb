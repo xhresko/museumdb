{
 "cells": [
  {
   "cell_type": "code",
   "execution_count": null,
   "metadata": {},
   "outputs": [],
   "source": [
    "import pandas as pd\n",
    "import mysql.connector\n",
    "from sqlalchemy import types, create_engine\n",
    "\n",
    "# Set unlimited table view\n",
    "pd.options.display.max_columns = None\n",
    "pd.options.display.max_rows = None\n",
    "\n",
    "# MySQL Connection\n",
    "MYSQL_USER = 'root'\n",
    "MYSQL_PASSWORD = open('/run/secrets/db-password').read().strip()\n",
    "MYSQL_HOST_IP = 'db'\n",
    "MYSQL_PORT = 3306\n",
    "MYSQL_DATABASE = 'example'\n",
    "\n",
    "engine = create_engine(f'mysql+mysqlconnector://{MYSQL_USER}:{MYSQL_PASSWORD}@{MYSQL_HOST_IP}:{MYSQL_PORT}/{MYSQL_DATABASE}', echo=False)\n",
    "\n",
    "df = pd.read_sql_table('museums', engine.connect())\n",
    "df = df.drop(labels=['index'], axis=1)"
   ]
  },
  {
   "cell_type": "code",
   "execution_count": null,
   "metadata": {},
   "outputs": [],
   "source": [
    "df"
   ]
  },
  {
   "cell_type": "code",
   "execution_count": null,
   "metadata": {},
   "outputs": [],
   "source": [
    "import plotly.express as px\n",
    "\n",
    "fig = px.scatter(df, y='Visitors per year', x='Wiki languages count', hover_data=['Museum', 'City'], \n",
    "                 color='Continent',\n",
    "                 trendline=\"ols\")\n",
    "fig.update_traces(marker=dict(size=12,\n",
    "                              line=dict(width=2,\n",
    "                                        color='DarkSlateGrey')),\n",
    "                  selector=dict(mode='markers'))\n",
    "fig.show()"
   ]
  },
  {
   "cell_type": "code",
   "execution_count": null,
   "metadata": {},
   "outputs": [],
   "source": [
    "import seaborn as sns\n",
    "sns.set_theme(style=\"ticks\")\n",
    "\n",
    "sns.pairplot(df , hue=\"Art/culture museum\");"
   ]
  },
  {
   "cell_type": "code",
   "execution_count": null,
   "metadata": {},
   "outputs": [],
   "source": [
    "import numpy as np\n",
    "import plotly.express as px\n",
    "import plotly.graph_objects as go\n",
    "from sklearn.linear_model import LinearRegression\n",
    "from sklearn.model_selection import train_test_split\n",
    "\n",
    "df[['City population']].values.reshape(-1, 1) \n",
    "\n",
    "X = df[['City population']].values.reshape(-1, 1) \n",
    "X_train, X_test, y_train, y_test = train_test_split(X, df['Visitors per year'], random_state=0)\n",
    "\n",
    "model = LinearRegression()\n",
    "model.fit(X_train, y_train)\n",
    "\n",
    "x_range = np.linspace(X.min(), X.max(), 100)\n",
    "y_range = model.predict(x_range.reshape(-1, 1))\n",
    "\n",
    "fig = px.scatter(df, y='Visitors per year', x='City population')\n",
    "\n",
    "fig.add_traces(go.Scatter(x=X_train.squeeze(), y=y_train, name='train', mode='markers'))\n",
    "fig.add_traces(go.Scatter(x=X_test.squeeze(), y=y_test, name='test', mode='markers'))\n",
    "fig.add_traces(go.Scatter(x=x_range, y=y_range, name='prediction'))\n",
    "\n",
    "fig.update_traces(marker=dict(size=12, line=dict(width=2, color='DarkSlateGrey')), selector=dict(mode='markers'))\n",
    "\n",
    "\n",
    "fig.show()"
   ]
  }
 ],
 "metadata": {
  "kernelspec": {
   "display_name": "Python 3",
   "language": "python",
   "name": "python3"
  },
  "language_info": {
   "codemirror_mode": {
    "name": "ipython",
    "version": 3
   },
   "file_extension": ".py",
   "mimetype": "text/x-python",
   "name": "python",
   "nbconvert_exporter": "python",
   "pygments_lexer": "ipython3",
   "version": "3.8.3"
  }
 },
 "nbformat": 4,
 "nbformat_minor": 4
}