{
 "cells": [
  {
   "cell_type": "markdown",
   "metadata": {},
   "source": [
    "### Loading the dataset\n",
    "\n",
    "The dataset can be loaded from MySQL DB which is running in separate container.\n",
    "If it is not available it can be alternatively loaded from existing CSV file."
   ]
  },
  {
   "cell_type": "code",
   "execution_count": 49,
   "metadata": {},
   "outputs": [],
   "source": [
    "import pandas as pd\n",
    "import mysql.connector\n",
    "from sqlalchemy import types, create_engine\n",
    "\n",
    "# Set unlimited table view\n",
    "pd.options.display.max_columns = None\n",
    "pd.options.display.max_rows = None\n",
    "\n",
    "# MySQL Connection\n",
    "MYSQL_USER = 'root'\n",
    "MYSQL_PASSWORD = open('/run/secrets/db-password').read().strip()\n",
    "MYSQL_HOST_IP = 'db'\n",
    "MYSQL_PORT = 3306\n",
    "MYSQL_DATABASE = 'example'\n",
    "\n",
    "engine = create_engine(f'mysql+mysqlconnector://{MYSQL_USER}:{MYSQL_PASSWORD}@{MYSQL_HOST_IP}:{MYSQL_PORT}/{MYSQL_DATABASE}', echo=False)\n",
    "\n",
    "df = pd.read_sql_table('museums', engine.connect()).drop(labels=['index'], axis=1)\n",
    "\n",
    "#df = pd.read_csv('sample.csv').drop(['Unnamed: 0'], axis=1)"
   ]
  },
  {
   "cell_type": "code",
   "execution_count": 50,
   "metadata": {},
   "outputs": [
    {
     "data": {
      "text/html": [
       "<div>\n",
       "<style scoped>\n",
       "    .dataframe tbody tr th:only-of-type {\n",
       "        vertical-align: middle;\n",
       "    }\n",
       "\n",
       "    .dataframe tbody tr th {\n",
       "        vertical-align: top;\n",
       "    }\n",
       "\n",
       "    .dataframe thead th {\n",
       "        text-align: right;\n",
       "    }\n",
       "</style>\n",
       "<table border=\"1\" class=\"dataframe\">\n",
       "  <thead>\n",
       "    <tr style=\"text-align: right;\">\n",
       "      <th></th>\n",
       "      <th>Museum</th>\n",
       "      <th>Museum Wiki</th>\n",
       "      <th>Museum Wikidata ID</th>\n",
       "      <th>Country</th>\n",
       "      <th>Country Wiki</th>\n",
       "      <th>Country Wikidata ID</th>\n",
       "      <th>City</th>\n",
       "      <th>City Wiki</th>\n",
       "      <th>City Wikidata ID</th>\n",
       "      <th>Visitors per year</th>\n",
       "      <th>City population</th>\n",
       "      <th>Country population</th>\n",
       "      <th>Wiki languages count</th>\n",
       "      <th>Continent</th>\n",
       "      <th>Museum types</th>\n",
       "      <th>Art/culture museum</th>\n",
       "    </tr>\n",
       "  </thead>\n",
       "  <tbody>\n",
       "    <tr>\n",
       "      <th>0</th>\n",
       "      <td>Louvre</td>\n",
       "      <td>/wiki/Louvre</td>\n",
       "      <td>Q19675</td>\n",
       "      <td>France</td>\n",
       "      <td>/wiki/France</td>\n",
       "      <td>Q142</td>\n",
       "      <td>Paris</td>\n",
       "      <td>/wiki/Paris</td>\n",
       "      <td>Q90</td>\n",
       "      <td>9600000</td>\n",
       "      <td>2187526</td>\n",
       "      <td>66628000</td>\n",
       "      <td>152</td>\n",
       "      <td>Europe</td>\n",
       "      <td>art museum, museum of culture, museum</td>\n",
       "      <td>1</td>\n",
       "    </tr>\n",
       "    <tr>\n",
       "      <th>1</th>\n",
       "      <td>National Museum of China</td>\n",
       "      <td>/wiki/National_Museum_of_China</td>\n",
       "      <td>Q1074318</td>\n",
       "      <td>China</td>\n",
       "      <td>/wiki/China</td>\n",
       "      <td>Q148</td>\n",
       "      <td>Beijing</td>\n",
       "      <td>/wiki/Beijing</td>\n",
       "      <td>Q956</td>\n",
       "      <td>7390000</td>\n",
       "      <td>21710000</td>\n",
       "      <td>1409517397</td>\n",
       "      <td>30</td>\n",
       "      <td>Asia</td>\n",
       "      <td>national museum, museum</td>\n",
       "      <td>0</td>\n",
       "    </tr>\n",
       "    <tr>\n",
       "      <th>2</th>\n",
       "      <td>Vatican Museums</td>\n",
       "      <td>/wiki/Vatican_Museums</td>\n",
       "      <td>Q182955</td>\n",
       "      <td>Vatican City</td>\n",
       "      <td>/wiki/Vatican_City</td>\n",
       "      <td>Q237</td>\n",
       "      <td>Vatican City</td>\n",
       "      <td>/wiki/Vatican_City</td>\n",
       "      <td>Q237</td>\n",
       "      <td>6882931</td>\n",
       "      <td>1000</td>\n",
       "      <td>1000</td>\n",
       "      <td>56</td>\n",
       "      <td>Europe</td>\n",
       "      <td>art museum, national museum, museum of culture...</td>\n",
       "      <td>1</td>\n",
       "    </tr>\n",
       "    <tr>\n",
       "      <th>3</th>\n",
       "      <td>Metropolitan Museum of Art</td>\n",
       "      <td>/wiki/Metropolitan_Museum_of_Art</td>\n",
       "      <td>Q160236</td>\n",
       "      <td>United States</td>\n",
       "      <td>/wiki/United_States</td>\n",
       "      <td>Q30</td>\n",
       "      <td>New York City</td>\n",
       "      <td>/wiki/New_York_City</td>\n",
       "      <td>Q60</td>\n",
       "      <td>6479548</td>\n",
       "      <td>8398748</td>\n",
       "      <td>325145963</td>\n",
       "      <td>75</td>\n",
       "      <td>North America</td>\n",
       "      <td>art museum, museum of culture, museum</td>\n",
       "      <td>1</td>\n",
       "    </tr>\n",
       "    <tr>\n",
       "      <th>4</th>\n",
       "      <td>British Museum</td>\n",
       "      <td>/wiki/British_Museum</td>\n",
       "      <td>Q6373</td>\n",
       "      <td>United Kingdom</td>\n",
       "      <td>/wiki/United_Kingdom</td>\n",
       "      <td>Q145</td>\n",
       "      <td>London</td>\n",
       "      <td>/wiki/London</td>\n",
       "      <td>Q84</td>\n",
       "      <td>6239983</td>\n",
       "      <td>8908081</td>\n",
       "      <td>66022273</td>\n",
       "      <td>92</td>\n",
       "      <td>Europe</td>\n",
       "      <td>national museum, museum</td>\n",
       "      <td>0</td>\n",
       "    </tr>\n",
       "    <tr>\n",
       "      <th>5</th>\n",
       "      <td>Tate Modern</td>\n",
       "      <td>/wiki/Tate_Modern</td>\n",
       "      <td>Q193375</td>\n",
       "      <td>United Kingdom</td>\n",
       "      <td>/wiki/United_Kingdom</td>\n",
       "      <td>Q145</td>\n",
       "      <td>London</td>\n",
       "      <td>/wiki/London</td>\n",
       "      <td>Q84</td>\n",
       "      <td>6098340</td>\n",
       "      <td>8908081</td>\n",
       "      <td>66022273</td>\n",
       "      <td>53</td>\n",
       "      <td>Europe</td>\n",
       "      <td>art museum, museum of culture, museum</td>\n",
       "      <td>1</td>\n",
       "    </tr>\n",
       "    <tr>\n",
       "      <th>6</th>\n",
       "      <td>National Gallery</td>\n",
       "      <td>/wiki/National_Gallery</td>\n",
       "      <td>Q180788</td>\n",
       "      <td>United Kingdom</td>\n",
       "      <td>/wiki/United_Kingdom</td>\n",
       "      <td>Q145</td>\n",
       "      <td>London</td>\n",
       "      <td>/wiki/London</td>\n",
       "      <td>Q84</td>\n",
       "      <td>6011007</td>\n",
       "      <td>8908081</td>\n",
       "      <td>66022273</td>\n",
       "      <td>64</td>\n",
       "      <td>Europe</td>\n",
       "      <td>art museum, museum of culture, museum</td>\n",
       "      <td>1</td>\n",
       "    </tr>\n",
       "    <tr>\n",
       "      <th>7</th>\n",
       "      <td>Natural History Museum</td>\n",
       "      <td>/wiki/Natural_History_Museum,_London</td>\n",
       "      <td>Q309388</td>\n",
       "      <td>United Kingdom</td>\n",
       "      <td>/wiki/United_Kingdom</td>\n",
       "      <td>Q145</td>\n",
       "      <td>London</td>\n",
       "      <td>/wiki/London</td>\n",
       "      <td>Q84</td>\n",
       "      <td>5424000</td>\n",
       "      <td>8908081</td>\n",
       "      <td>66022273</td>\n",
       "      <td>50</td>\n",
       "      <td>Europe</td>\n",
       "      <td>science museum, natural history museum, nation...</td>\n",
       "      <td>0</td>\n",
       "    </tr>\n",
       "    <tr>\n",
       "      <th>8</th>\n",
       "      <td>American Museum of Natural History</td>\n",
       "      <td>/wiki/American_Museum_of_Natural_History</td>\n",
       "      <td>Q217717</td>\n",
       "      <td>United States</td>\n",
       "      <td>/wiki/United_States</td>\n",
       "      <td>Q30</td>\n",
       "      <td>New York City</td>\n",
       "      <td>/wiki/New_York_City</td>\n",
       "      <td>Q60</td>\n",
       "      <td>5000000</td>\n",
       "      <td>8398748</td>\n",
       "      <td>325145963</td>\n",
       "      <td>48</td>\n",
       "      <td>North America</td>\n",
       "      <td>science museum, natural history museum, histor...</td>\n",
       "      <td>0</td>\n",
       "    </tr>\n",
       "    <tr>\n",
       "      <th>9</th>\n",
       "      <td>State Hermitage Museum</td>\n",
       "      <td>/wiki/State_Hermitage_Museum</td>\n",
       "      <td>Q132783</td>\n",
       "      <td>Russia</td>\n",
       "      <td>/wiki/Russia</td>\n",
       "      <td>Q159</td>\n",
       "      <td>Saint Petersburg</td>\n",
       "      <td>/wiki/Saint_Petersburg</td>\n",
       "      <td>Q656</td>\n",
       "      <td>4956529</td>\n",
       "      <td>5351935</td>\n",
       "      <td>146804372</td>\n",
       "      <td>75</td>\n",
       "      <td>Europe</td>\n",
       "      <td>art museum, museum of culture, museum</td>\n",
       "      <td>1</td>\n",
       "    </tr>\n",
       "    <tr>\n",
       "      <th>10</th>\n",
       "      <td>Shanghai Science and Technology Museum</td>\n",
       "      <td>/wiki/Shanghai_Science_and_Technology_Museum</td>\n",
       "      <td>Q855376</td>\n",
       "      <td>China</td>\n",
       "      <td>/wiki/China</td>\n",
       "      <td>Q148</td>\n",
       "      <td>Shanghai</td>\n",
       "      <td>/wiki/Shanghai</td>\n",
       "      <td>Q8686</td>\n",
       "      <td>4824000</td>\n",
       "      <td>23390000</td>\n",
       "      <td>1409517397</td>\n",
       "      <td>9</td>\n",
       "      <td>Asia</td>\n",
       "      <td>museum</td>\n",
       "      <td>0</td>\n",
       "    </tr>\n",
       "    <tr>\n",
       "      <th>11</th>\n",
       "      <td>Museo Reina Sofía</td>\n",
       "      <td>/wiki/Museo_Nacional_Centro_de_Arte_Reina_Sof%...</td>\n",
       "      <td>Q460889</td>\n",
       "      <td>Spain</td>\n",
       "      <td>/wiki/Spain</td>\n",
       "      <td>Q29</td>\n",
       "      <td>Madrid</td>\n",
       "      <td>/wiki/Madrid</td>\n",
       "      <td>Q2807</td>\n",
       "      <td>4425699</td>\n",
       "      <td>3266126</td>\n",
       "      <td>46733038</td>\n",
       "      <td>42</td>\n",
       "      <td>Europe</td>\n",
       "      <td>art museum, national museum, museum of culture...</td>\n",
       "      <td>1</td>\n",
       "    </tr>\n",
       "    <tr>\n",
       "      <th>12</th>\n",
       "      <td>Guangdong Museum of Revolutionary History</td>\n",
       "      <td>/wiki/Guangdong_Museum_of_Revolutionary_History</td>\n",
       "      <td>Q5613635</td>\n",
       "      <td>China</td>\n",
       "      <td>/wiki/China</td>\n",
       "      <td>Q148</td>\n",
       "      <td>Guangzhou</td>\n",
       "      <td>/wiki/Guangzhou</td>\n",
       "      <td>Q16572</td>\n",
       "      <td>4257100</td>\n",
       "      <td>13080500</td>\n",
       "      <td>1409517397</td>\n",
       "      <td>5</td>\n",
       "      <td>Asia</td>\n",
       "      <td>museum</td>\n",
       "      <td>0</td>\n",
       "    </tr>\n",
       "    <tr>\n",
       "      <th>13</th>\n",
       "      <td>National Museum of Natural History</td>\n",
       "      <td>/wiki/National_Museum_of_Natural_History</td>\n",
       "      <td>Q148554</td>\n",
       "      <td>United States</td>\n",
       "      <td>/wiki/United_States</td>\n",
       "      <td>Q30</td>\n",
       "      <td>Washington, D.C.</td>\n",
       "      <td>/wiki/Washington,_D.C.</td>\n",
       "      <td>Q61</td>\n",
       "      <td>4200000</td>\n",
       "      <td>705749</td>\n",
       "      <td>325145963</td>\n",
       "      <td>37</td>\n",
       "      <td>North America</td>\n",
       "      <td>science museum, natural history museum, histor...</td>\n",
       "      <td>0</td>\n",
       "    </tr>\n",
       "    <tr>\n",
       "      <th>14</th>\n",
       "      <td>Nanjing Museum</td>\n",
       "      <td>/wiki/Nanjing_Museum</td>\n",
       "      <td>Q1815891</td>\n",
       "      <td>China</td>\n",
       "      <td>/wiki/China</td>\n",
       "      <td>Q148</td>\n",
       "      <td>Nanjing</td>\n",
       "      <td>/wiki/Nanjing</td>\n",
       "      <td>Q16666</td>\n",
       "      <td>4169000</td>\n",
       "      <td>6320000</td>\n",
       "      <td>1409517397</td>\n",
       "      <td>18</td>\n",
       "      <td>Asia</td>\n",
       "      <td>art museum, museum of culture, museum</td>\n",
       "      <td>1</td>\n",
       "    </tr>\n",
       "    <tr>\n",
       "      <th>15</th>\n",
       "      <td>Zhejiang Museum</td>\n",
       "      <td>/wiki/Zhejiang_Museum</td>\n",
       "      <td>Q1278762</td>\n",
       "      <td>China</td>\n",
       "      <td>/wiki/China</td>\n",
       "      <td>Q148</td>\n",
       "      <td>Hangzhou</td>\n",
       "      <td>/wiki/Hangzhou</td>\n",
       "      <td>Q4970</td>\n",
       "      <td>4150000</td>\n",
       "      <td>9468000</td>\n",
       "      <td>1409517397</td>\n",
       "      <td>8</td>\n",
       "      <td>Asia</td>\n",
       "      <td>museum</td>\n",
       "      <td>0</td>\n",
       "    </tr>\n",
       "    <tr>\n",
       "      <th>16</th>\n",
       "      <td>National Gallery of Art</td>\n",
       "      <td>/wiki/National_Gallery_of_Art</td>\n",
       "      <td>Q214867</td>\n",
       "      <td>United States</td>\n",
       "      <td>/wiki/United_States</td>\n",
       "      <td>Q30</td>\n",
       "      <td>Washington, D.C.</td>\n",
       "      <td>/wiki/Washington,_D.C.</td>\n",
       "      <td>Q61</td>\n",
       "      <td>4074403</td>\n",
       "      <td>705749</td>\n",
       "      <td>325145963</td>\n",
       "      <td>49</td>\n",
       "      <td>North America</td>\n",
       "      <td>art museum, museum of culture, museum</td>\n",
       "      <td>1</td>\n",
       "    </tr>\n",
       "    <tr>\n",
       "      <th>17</th>\n",
       "      <td>Victoria and Albert Museum</td>\n",
       "      <td>/wiki/Victoria_and_Albert_Museum</td>\n",
       "      <td>Q213322</td>\n",
       "      <td>United Kingdom</td>\n",
       "      <td>/wiki/United_Kingdom</td>\n",
       "      <td>Q145</td>\n",
       "      <td>London</td>\n",
       "      <td>/wiki/London</td>\n",
       "      <td>Q84</td>\n",
       "      <td>3932938</td>\n",
       "      <td>8908081</td>\n",
       "      <td>66022273</td>\n",
       "      <td>54</td>\n",
       "      <td>Europe</td>\n",
       "      <td>art museum, museum of culture, design museum, ...</td>\n",
       "      <td>1</td>\n",
       "    </tr>\n",
       "    <tr>\n",
       "      <th>18</th>\n",
       "      <td>China Science and Technology Museum</td>\n",
       "      <td>/wiki/China_Science_and_Technology_Museum</td>\n",
       "      <td>Q1074292</td>\n",
       "      <td>China</td>\n",
       "      <td>/wiki/China</td>\n",
       "      <td>Q148</td>\n",
       "      <td>Beijing</td>\n",
       "      <td>/wiki/Beijing</td>\n",
       "      <td>Q956</td>\n",
       "      <td>3891000</td>\n",
       "      <td>21710000</td>\n",
       "      <td>1409517397</td>\n",
       "      <td>6</td>\n",
       "      <td>Asia</td>\n",
       "      <td>science museum, technology museum, museum</td>\n",
       "      <td>0</td>\n",
       "    </tr>\n",
       "    <tr>\n",
       "      <th>19</th>\n",
       "      <td>Military Museum of the Chinese People's Revolu...</td>\n",
       "      <td>/wiki/Military_Museum_of_the_Chinese_People%27...</td>\n",
       "      <td>Q1789184</td>\n",
       "      <td>China</td>\n",
       "      <td>/wiki/China</td>\n",
       "      <td>Q148</td>\n",
       "      <td>Beijing</td>\n",
       "      <td>/wiki/Beijing</td>\n",
       "      <td>Q956</td>\n",
       "      <td>3870000</td>\n",
       "      <td>21710000</td>\n",
       "      <td>1409517397</td>\n",
       "      <td>12</td>\n",
       "      <td>Asia</td>\n",
       "      <td>military museum, museum</td>\n",
       "      <td>0</td>\n",
       "    </tr>\n",
       "    <tr>\n",
       "      <th>20</th>\n",
       "      <td>National Palace Museum</td>\n",
       "      <td>/wiki/National_Palace_Museum</td>\n",
       "      <td>Q540668</td>\n",
       "      <td>Taiwan</td>\n",
       "      <td>/wiki/Taiwan</td>\n",
       "      <td>Q865</td>\n",
       "      <td>Taipei</td>\n",
       "      <td>/wiki/Taipei</td>\n",
       "      <td>Q1867</td>\n",
       "      <td>3832373</td>\n",
       "      <td>2684567</td>\n",
       "      <td>23593794</td>\n",
       "      <td>37</td>\n",
       "      <td>Asia</td>\n",
       "      <td>national museum, museum</td>\n",
       "      <td>0</td>\n",
       "    </tr>\n",
       "    <tr>\n",
       "      <th>21</th>\n",
       "      <td>Shenzhen Museum</td>\n",
       "      <td>/wiki/Shenzhen_Museum</td>\n",
       "      <td>Q2088192</td>\n",
       "      <td>China</td>\n",
       "      <td>/wiki/China</td>\n",
       "      <td>Q148</td>\n",
       "      <td>Shenzhen</td>\n",
       "      <td>/wiki/Shenzhen</td>\n",
       "      <td>Q15174</td>\n",
       "      <td>3826000</td>\n",
       "      <td>11908400</td>\n",
       "      <td>1409517397</td>\n",
       "      <td>4</td>\n",
       "      <td>Asia</td>\n",
       "      <td>museum</td>\n",
       "      <td>0</td>\n",
       "    </tr>\n",
       "    <tr>\n",
       "      <th>22</th>\n",
       "      <td>Musée d'Orsay</td>\n",
       "      <td>/wiki/Mus%C3%A9e_d%27Orsay</td>\n",
       "      <td>Q23402</td>\n",
       "      <td>France</td>\n",
       "      <td>/wiki/France</td>\n",
       "      <td>Q142</td>\n",
       "      <td>Paris</td>\n",
       "      <td>/wiki/Paris</td>\n",
       "      <td>Q90</td>\n",
       "      <td>3651616</td>\n",
       "      <td>2187526</td>\n",
       "      <td>66628000</td>\n",
       "      <td>122</td>\n",
       "      <td>Europe</td>\n",
       "      <td>art museum, museum of culture, museum</td>\n",
       "      <td>1</td>\n",
       "    </tr>\n",
       "    <tr>\n",
       "      <th>23</th>\n",
       "      <td>Museo del Prado</td>\n",
       "      <td>/wiki/Museo_del_Prado</td>\n",
       "      <td>Q160112</td>\n",
       "      <td>Spain</td>\n",
       "      <td>/wiki/Spain</td>\n",
       "      <td>Q29</td>\n",
       "      <td>Madrid</td>\n",
       "      <td>/wiki/Madrid</td>\n",
       "      <td>Q2807</td>\n",
       "      <td>3497345</td>\n",
       "      <td>3266126</td>\n",
       "      <td>46733038</td>\n",
       "      <td>71</td>\n",
       "      <td>Europe</td>\n",
       "      <td>art museum, national museum, museum of culture...</td>\n",
       "      <td>1</td>\n",
       "    </tr>\n",
       "    <tr>\n",
       "      <th>24</th>\n",
       "      <td>Mevlana Museum</td>\n",
       "      <td>/wiki/Mevlana_Museum</td>\n",
       "      <td>Q902957</td>\n",
       "      <td>Turkey</td>\n",
       "      <td>/wiki/Turkey</td>\n",
       "      <td>Q43</td>\n",
       "      <td>Konya</td>\n",
       "      <td>/wiki/Konya</td>\n",
       "      <td>Q79857</td>\n",
       "      <td>3464155</td>\n",
       "      <td>2232374</td>\n",
       "      <td>82003882</td>\n",
       "      <td>15</td>\n",
       "      <td>Asia</td>\n",
       "      <td>museum</td>\n",
       "      <td>0</td>\n",
       "    </tr>\n",
       "    <tr>\n",
       "      <th>25</th>\n",
       "      <td>Xi'an Museum</td>\n",
       "      <td>/w/index.php?title=Xi%27an_Museum&amp;action=edit&amp;...</td>\n",
       "      <td></td>\n",
       "      <td>China</td>\n",
       "      <td>/wiki/China</td>\n",
       "      <td>Q148</td>\n",
       "      <td>Xi'an</td>\n",
       "      <td>/wiki/Xi%27an</td>\n",
       "      <td>Q5826</td>\n",
       "      <td>3420000</td>\n",
       "      <td>5740000</td>\n",
       "      <td>1409517397</td>\n",
       "      <td>0</td>\n",
       "      <td>Asia</td>\n",
       "      <td></td>\n",
       "      <td>0</td>\n",
       "    </tr>\n",
       "    <tr>\n",
       "      <th>26</th>\n",
       "      <td>National Museum of Korea</td>\n",
       "      <td>/wiki/National_Museum_of_Korea</td>\n",
       "      <td>Q494407</td>\n",
       "      <td>South Korea</td>\n",
       "      <td>/wiki/South_Korea</td>\n",
       "      <td>Q884</td>\n",
       "      <td>Seoul</td>\n",
       "      <td>/wiki/Seoul</td>\n",
       "      <td>Q8684</td>\n",
       "      <td>3354161</td>\n",
       "      <td>9806538</td>\n",
       "      <td>51466201</td>\n",
       "      <td>31</td>\n",
       "      <td>Asia</td>\n",
       "      <td>national museum, museum</td>\n",
       "      <td>0</td>\n",
       "    </tr>\n",
       "    <tr>\n",
       "      <th>27</th>\n",
       "      <td>Centre Pompidou</td>\n",
       "      <td>/wiki/Centre_Pompidou</td>\n",
       "      <td>Q178065</td>\n",
       "      <td>France</td>\n",
       "      <td>/wiki/France</td>\n",
       "      <td>Q142</td>\n",
       "      <td>Paris</td>\n",
       "      <td>/wiki/Paris</td>\n",
       "      <td>Q90</td>\n",
       "      <td>3273867</td>\n",
       "      <td>2187526</td>\n",
       "      <td>66628000</td>\n",
       "      <td>57</td>\n",
       "      <td>Europe</td>\n",
       "      <td>art museum, national museum, museum of culture...</td>\n",
       "      <td>1</td>\n",
       "    </tr>\n",
       "    <tr>\n",
       "      <th>28</th>\n",
       "      <td>London Science Museum</td>\n",
       "      <td>/wiki/London_Science_Museum</td>\n",
       "      <td>Q674773</td>\n",
       "      <td>United Kingdom</td>\n",
       "      <td>/wiki/United_Kingdom</td>\n",
       "      <td>Q145</td>\n",
       "      <td>London</td>\n",
       "      <td>/wiki/London</td>\n",
       "      <td>Q84</td>\n",
       "      <td>3254000</td>\n",
       "      <td>8908081</td>\n",
       "      <td>66022273</td>\n",
       "      <td>39</td>\n",
       "      <td>Europe</td>\n",
       "      <td>science museum, technology museum, museum</td>\n",
       "      <td>0</td>\n",
       "    </tr>\n",
       "    <tr>\n",
       "      <th>29</th>\n",
       "      <td>National Air and Space Museum</td>\n",
       "      <td>/wiki/National_Air_and_Space_Museum</td>\n",
       "      <td>Q752669</td>\n",
       "      <td>United States</td>\n",
       "      <td>/wiki/United_States</td>\n",
       "      <td>Q30</td>\n",
       "      <td>Washington, D.C.</td>\n",
       "      <td>/wiki/Washington,_D.C.</td>\n",
       "      <td>Q61</td>\n",
       "      <td>3200000</td>\n",
       "      <td>705749</td>\n",
       "      <td>325145963</td>\n",
       "      <td>32</td>\n",
       "      <td>North America</td>\n",
       "      <td>science museum, transport museum, aviation mus...</td>\n",
       "      <td>0</td>\n",
       "    </tr>\n",
       "    <tr>\n",
       "      <th>30</th>\n",
       "      <td>Tianjin Natural History Museum</td>\n",
       "      <td>/wiki/Tianjin_Natural_History_Museum</td>\n",
       "      <td>Q15903989</td>\n",
       "      <td>China</td>\n",
       "      <td>/wiki/China</td>\n",
       "      <td>Q148</td>\n",
       "      <td>Tianjin</td>\n",
       "      <td>/wiki/Tianjin</td>\n",
       "      <td>Q11736</td>\n",
       "      <td>3150000</td>\n",
       "      <td>13245000</td>\n",
       "      <td>1409517397</td>\n",
       "      <td>4</td>\n",
       "      <td>Asia</td>\n",
       "      <td>museum</td>\n",
       "      <td>0</td>\n",
       "    </tr>\n",
       "    <tr>\n",
       "      <th>31</th>\n",
       "      <td>Hunan Museum</td>\n",
       "      <td>/wiki/Hunan_Museum</td>\n",
       "      <td>Q5942029</td>\n",
       "      <td>China</td>\n",
       "      <td>/wiki/China</td>\n",
       "      <td>Q148</td>\n",
       "      <td>Changsha</td>\n",
       "      <td>/wiki/Changsha</td>\n",
       "      <td>Q174091</td>\n",
       "      <td>3140000</td>\n",
       "      <td>7044118</td>\n",
       "      <td>1409517397</td>\n",
       "      <td>10</td>\n",
       "      <td>Asia</td>\n",
       "      <td>museum</td>\n",
       "      <td>0</td>\n",
       "    </tr>\n",
       "    <tr>\n",
       "      <th>32</th>\n",
       "      <td>Moscow Kremlin Museums</td>\n",
       "      <td>/wiki/Moscow_Kremlin_Museums</td>\n",
       "      <td>Q4304009</td>\n",
       "      <td>Russia</td>\n",
       "      <td>/wiki/Russia</td>\n",
       "      <td>Q159</td>\n",
       "      <td>Moscow</td>\n",
       "      <td>/wiki/Moscow</td>\n",
       "      <td>Q649</td>\n",
       "      <td>3101550</td>\n",
       "      <td>12500123</td>\n",
       "      <td>146804372</td>\n",
       "      <td>6</td>\n",
       "      <td>Europe</td>\n",
       "      <td>museum</td>\n",
       "      <td>0</td>\n",
       "    </tr>\n",
       "    <tr>\n",
       "      <th>33</th>\n",
       "      <td>National Museum of Anthropology</td>\n",
       "      <td>/wiki/National_Museum_of_Anthropology_(Mexico)</td>\n",
       "      <td>Q524249</td>\n",
       "      <td>Mexico</td>\n",
       "      <td>/wiki/Mexico</td>\n",
       "      <td>Q96</td>\n",
       "      <td>Mexico City</td>\n",
       "      <td>/wiki/Mexico_City</td>\n",
       "      <td>Q1489</td>\n",
       "      <td>3086555</td>\n",
       "      <td>8918653</td>\n",
       "      <td>130526945</td>\n",
       "      <td>35</td>\n",
       "      <td>North America</td>\n",
       "      <td>national museum, museum</td>\n",
       "      <td>0</td>\n",
       "    </tr>\n",
       "    <tr>\n",
       "      <th>34</th>\n",
       "      <td>National Taiwan Science Education Center</td>\n",
       "      <td>/wiki/National_Taiwan_Science_Education_Center</td>\n",
       "      <td>Q10927242</td>\n",
       "      <td>Taiwan</td>\n",
       "      <td>/wiki/Taiwan</td>\n",
       "      <td>Q865</td>\n",
       "      <td>Taipei</td>\n",
       "      <td>/wiki/Taipei</td>\n",
       "      <td>Q1867</td>\n",
       "      <td>3000000</td>\n",
       "      <td>2684567</td>\n",
       "      <td>23593794</td>\n",
       "      <td>4</td>\n",
       "      <td>Asia</td>\n",
       "      <td></td>\n",
       "      <td>0</td>\n",
       "    </tr>\n",
       "    <tr>\n",
       "      <th>35</th>\n",
       "      <td>Royal Museums Greenwich</td>\n",
       "      <td>/wiki/Royal_Museums_Greenwich</td>\n",
       "      <td>Q7374509</td>\n",
       "      <td>United Kingdom</td>\n",
       "      <td>/wiki/United_Kingdom</td>\n",
       "      <td>Q145</td>\n",
       "      <td>London</td>\n",
       "      <td>/wiki/London</td>\n",
       "      <td>Q84</td>\n",
       "      <td>2906000</td>\n",
       "      <td>8908081</td>\n",
       "      <td>66022273</td>\n",
       "      <td>4</td>\n",
       "      <td>Europe</td>\n",
       "      <td>museum</td>\n",
       "      <td>0</td>\n",
       "    </tr>\n",
       "    <tr>\n",
       "      <th>36</th>\n",
       "      <td>Shaanxi History Museum</td>\n",
       "      <td>/wiki/Shaanxi_History_Museum</td>\n",
       "      <td>Q1151210</td>\n",
       "      <td>China</td>\n",
       "      <td>/wiki/China</td>\n",
       "      <td>Q148</td>\n",
       "      <td>Xi'an</td>\n",
       "      <td>/wiki/Xi%27an</td>\n",
       "      <td>Q5826</td>\n",
       "      <td>2900000</td>\n",
       "      <td>5740000</td>\n",
       "      <td>1409517397</td>\n",
       "      <td>12</td>\n",
       "      <td>Asia</td>\n",
       "      <td>history museum, museum</td>\n",
       "      <td>0</td>\n",
       "    </tr>\n",
       "    <tr>\n",
       "      <th>37</th>\n",
       "      <td>Tokyo Metropolitan Art Museum</td>\n",
       "      <td>/wiki/Tokyo_Metropolitan_Art_Museum</td>\n",
       "      <td>Q864957</td>\n",
       "      <td>Japan</td>\n",
       "      <td>/wiki/Japan</td>\n",
       "      <td>Q17</td>\n",
       "      <td>Tokyo</td>\n",
       "      <td>/wiki/Tokyo</td>\n",
       "      <td>Q1490</td>\n",
       "      <td>2873806</td>\n",
       "      <td>13942856</td>\n",
       "      <td>126785797</td>\n",
       "      <td>13</td>\n",
       "      <td>Asia</td>\n",
       "      <td>art museum, museum of culture, museum</td>\n",
       "      <td>1</td>\n",
       "    </tr>\n",
       "    <tr>\n",
       "      <th>38</th>\n",
       "      <td>Somerset House</td>\n",
       "      <td>/wiki/Somerset_House</td>\n",
       "      <td>Q1344889</td>\n",
       "      <td>United Kingdom</td>\n",
       "      <td>/wiki/United_Kingdom</td>\n",
       "      <td>Q145</td>\n",
       "      <td>London</td>\n",
       "      <td>/wiki/London</td>\n",
       "      <td>Q84</td>\n",
       "      <td>2841772</td>\n",
       "      <td>8908081</td>\n",
       "      <td>66022273</td>\n",
       "      <td>27</td>\n",
       "      <td>Europe</td>\n",
       "      <td></td>\n",
       "      <td>0</td>\n",
       "    </tr>\n",
       "    <tr>\n",
       "      <th>39</th>\n",
       "      <td>Tretyakov Gallery</td>\n",
       "      <td>/wiki/Tretyakov_Gallery</td>\n",
       "      <td>Q183334</td>\n",
       "      <td>Russia</td>\n",
       "      <td>/wiki/Russia</td>\n",
       "      <td>Q159</td>\n",
       "      <td>Moscow</td>\n",
       "      <td>/wiki/Moscow</td>\n",
       "      <td>Q649</td>\n",
       "      <td>2835836</td>\n",
       "      <td>12500123</td>\n",
       "      <td>146804372</td>\n",
       "      <td>54</td>\n",
       "      <td>Europe</td>\n",
       "      <td>art museum, museum of culture, museum</td>\n",
       "      <td>1</td>\n",
       "    </tr>\n",
       "    <tr>\n",
       "      <th>40</th>\n",
       "      <td>National Museum of History</td>\n",
       "      <td>/wiki/Museo_Nacional_de_Historia</td>\n",
       "      <td>Q6940502</td>\n",
       "      <td>Mexico</td>\n",
       "      <td>/wiki/Mexico</td>\n",
       "      <td>Q96</td>\n",
       "      <td>Mexico City</td>\n",
       "      <td>/wiki/Mexico_City</td>\n",
       "      <td>Q1489</td>\n",
       "      <td>2811646</td>\n",
       "      <td>8918653</td>\n",
       "      <td>130526945</td>\n",
       "      <td>4</td>\n",
       "      <td>North America</td>\n",
       "      <td>national museum, museum</td>\n",
       "      <td>0</td>\n",
       "    </tr>\n",
       "    <tr>\n",
       "      <th>41</th>\n",
       "      <td>National Museum of American History</td>\n",
       "      <td>/wiki/National_Museum_of_American_History</td>\n",
       "      <td>Q148584</td>\n",
       "      <td>United States</td>\n",
       "      <td>/wiki/United_States</td>\n",
       "      <td>Q30</td>\n",
       "      <td>Washington, D.C.</td>\n",
       "      <td>/wiki/Washington,_D.C.</td>\n",
       "      <td>Q61</td>\n",
       "      <td>2800000</td>\n",
       "      <td>705749</td>\n",
       "      <td>325145963</td>\n",
       "      <td>24</td>\n",
       "      <td>North America</td>\n",
       "      <td>national museum, history museum, museum</td>\n",
       "      <td>0</td>\n",
       "    </tr>\n",
       "    <tr>\n",
       "      <th>42</th>\n",
       "      <td>Rijksmuseum</td>\n",
       "      <td>/wiki/Rijksmuseum</td>\n",
       "      <td>Q190804</td>\n",
       "      <td>Netherlands</td>\n",
       "      <td>/wiki/Netherlands</td>\n",
       "      <td>Q55</td>\n",
       "      <td>Amsterdam</td>\n",
       "      <td>/wiki/Amsterdam</td>\n",
       "      <td>Q727</td>\n",
       "      <td>2700000</td>\n",
       "      <td>860124</td>\n",
       "      <td>17282163</td>\n",
       "      <td>57</td>\n",
       "      <td>Central America</td>\n",
       "      <td>art museum, national museum, history museum, m...</td>\n",
       "      <td>1</td>\n",
       "    </tr>\n",
       "    <tr>\n",
       "      <th>43</th>\n",
       "      <td>Tokyo National Museum</td>\n",
       "      <td>/wiki/Tokyo_National_Museum</td>\n",
       "      <td>Q653433</td>\n",
       "      <td>Japan</td>\n",
       "      <td>/wiki/Japan</td>\n",
       "      <td>Q17</td>\n",
       "      <td>Tokyo</td>\n",
       "      <td>/wiki/Tokyo</td>\n",
       "      <td>Q1490</td>\n",
       "      <td>2684754</td>\n",
       "      <td>13942856</td>\n",
       "      <td>126785797</td>\n",
       "      <td>45</td>\n",
       "      <td>Asia</td>\n",
       "      <td>national museum, museum</td>\n",
       "      <td>0</td>\n",
       "    </tr>\n",
       "    <tr>\n",
       "      <th>44</th>\n",
       "      <td>National Museum of Natural Science</td>\n",
       "      <td>/wiki/National_Museum_of_Natural_Science</td>\n",
       "      <td>Q3847114</td>\n",
       "      <td>Taiwan</td>\n",
       "      <td>/wiki/Taiwan</td>\n",
       "      <td>Q865</td>\n",
       "      <td>Taichung</td>\n",
       "      <td>/wiki/Taichung</td>\n",
       "      <td>Q245023</td>\n",
       "      <td>2650000</td>\n",
       "      <td>2803894</td>\n",
       "      <td>23593794</td>\n",
       "      <td>7</td>\n",
       "      <td>Asia</td>\n",
       "      <td>science museum, national museum, museum</td>\n",
       "      <td>0</td>\n",
       "    </tr>\n",
       "    <tr>\n",
       "      <th>45</th>\n",
       "      <td>Chongqing Museum of Natural History</td>\n",
       "      <td>/wiki/Chongqing_Museum_of_Natural_History</td>\n",
       "      <td>Q18201907</td>\n",
       "      <td>China</td>\n",
       "      <td>/wiki/China</td>\n",
       "      <td>Q148</td>\n",
       "      <td>Chongqing</td>\n",
       "      <td>/wiki/Chongqing</td>\n",
       "      <td>Q11725</td>\n",
       "      <td>2624700</td>\n",
       "      <td>7990000</td>\n",
       "      <td>1409517397</td>\n",
       "      <td>5</td>\n",
       "      <td>Asia</td>\n",
       "      <td>science museum, natural history museum, histor...</td>\n",
       "      <td>0</td>\n",
       "    </tr>\n",
       "    <tr>\n",
       "      <th>46</th>\n",
       "      <td>Centro Cultural Banco do Brasil</td>\n",
       "      <td>/wiki/Centro_Cultural_Banco_do_Brasil</td>\n",
       "      <td>Q2946151</td>\n",
       "      <td>Brazil</td>\n",
       "      <td>/wiki/Brazil</td>\n",
       "      <td>Q155</td>\n",
       "      <td>Rio de Janeiro</td>\n",
       "      <td>/wiki/Rio_de_Janeiro</td>\n",
       "      <td>Q8678</td>\n",
       "      <td>2606999</td>\n",
       "      <td>6520266</td>\n",
       "      <td>210147125</td>\n",
       "      <td>11</td>\n",
       "      <td>South America</td>\n",
       "      <td></td>\n",
       "      <td>0</td>\n",
       "    </tr>\n",
       "    <tr>\n",
       "      <th>47</th>\n",
       "      <td>Shanghai Natural History Museum</td>\n",
       "      <td>/wiki/Shanghai_Natural_History_Museum</td>\n",
       "      <td>Q1312291</td>\n",
       "      <td>China</td>\n",
       "      <td>/wiki/China</td>\n",
       "      <td>Q148</td>\n",
       "      <td>Shanghai</td>\n",
       "      <td>/wiki/Shanghai</td>\n",
       "      <td>Q8686</td>\n",
       "      <td>2549000</td>\n",
       "      <td>23390000</td>\n",
       "      <td>1409517397</td>\n",
       "      <td>9</td>\n",
       "      <td>Asia</td>\n",
       "      <td>museum</td>\n",
       "      <td>0</td>\n",
       "    </tr>\n",
       "    <tr>\n",
       "      <th>48</th>\n",
       "      <td>National Museum of Nature and Science</td>\n",
       "      <td>/wiki/National_Museum_of_Nature_and_Science</td>\n",
       "      <td>Q74940</td>\n",
       "      <td>Japan</td>\n",
       "      <td>/wiki/Japan</td>\n",
       "      <td>Q17</td>\n",
       "      <td>Tokyo</td>\n",
       "      <td>/wiki/Tokyo</td>\n",
       "      <td>Q1490</td>\n",
       "      <td>2460000</td>\n",
       "      <td>13942856</td>\n",
       "      <td>126785797</td>\n",
       "      <td>22</td>\n",
       "      <td>Asia</td>\n",
       "      <td>science museum, national museum, museum</td>\n",
       "      <td>0</td>\n",
       "    </tr>\n",
       "    <tr>\n",
       "      <th>49</th>\n",
       "      <td>Zhejiang Museum of Natural History</td>\n",
       "      <td>/wiki/Zhejiang_Museum_of_Natural_History</td>\n",
       "      <td>Q11148852</td>\n",
       "      <td>China</td>\n",
       "      <td>/wiki/China</td>\n",
       "      <td>Q148</td>\n",
       "      <td>Hangzhou</td>\n",
       "      <td>/wiki/Hangzhou</td>\n",
       "      <td>Q4970</td>\n",
       "      <td>2443000</td>\n",
       "      <td>9468000</td>\n",
       "      <td>1409517397</td>\n",
       "      <td>7</td>\n",
       "      <td>Asia</td>\n",
       "      <td>museum</td>\n",
       "      <td>0</td>\n",
       "    </tr>\n",
       "    <tr>\n",
       "      <th>50</th>\n",
       "      <td>NGV International</td>\n",
       "      <td>/wiki/National_Gallery_of_Victoria</td>\n",
       "      <td>Q1464509</td>\n",
       "      <td>Australia</td>\n",
       "      <td>/wiki/Australia</td>\n",
       "      <td>Q408</td>\n",
       "      <td>Melbourne</td>\n",
       "      <td>/wiki/Melbourne</td>\n",
       "      <td>Q3141</td>\n",
       "      <td>2432883</td>\n",
       "      <td>4529500</td>\n",
       "      <td>24511800</td>\n",
       "      <td>28</td>\n",
       "      <td>Oceania</td>\n",
       "      <td>art museum, museum of culture, museum</td>\n",
       "      <td>1</td>\n",
       "    </tr>\n",
       "    <tr>\n",
       "      <th>51</th>\n",
       "      <td>Hubei Provincial Museum</td>\n",
       "      <td>/wiki/Hubei_Provincial_Museum</td>\n",
       "      <td>Q4391403</td>\n",
       "      <td>China</td>\n",
       "      <td>/wiki/China</td>\n",
       "      <td>Q148</td>\n",
       "      <td>Wuhan</td>\n",
       "      <td>/wiki/Wuhan</td>\n",
       "      <td>Q11746</td>\n",
       "      <td>2400000</td>\n",
       "      <td>11895000</td>\n",
       "      <td>1409517397</td>\n",
       "      <td>9</td>\n",
       "      <td>Asia</td>\n",
       "      <td>museum</td>\n",
       "      <td>0</td>\n",
       "    </tr>\n",
       "    <tr>\n",
       "      <th>52</th>\n",
       "      <td>Russian Museum</td>\n",
       "      <td>/wiki/Russian_Museum</td>\n",
       "      <td>Q211043</td>\n",
       "      <td>Russia</td>\n",
       "      <td>/wiki/Russia</td>\n",
       "      <td>Q159</td>\n",
       "      <td>Saint Petersburg</td>\n",
       "      <td>/wiki/Saint_Petersburg</td>\n",
       "      <td>Q656</td>\n",
       "      <td>2394400</td>\n",
       "      <td>5351935</td>\n",
       "      <td>146804372</td>\n",
       "      <td>44</td>\n",
       "      <td>Europe</td>\n",
       "      <td>art museum, museum of culture, museum</td>\n",
       "      <td>1</td>\n",
       "    </tr>\n",
       "    <tr>\n",
       "      <th>53</th>\n",
       "      <td>Cité des Sciences et de l'Industrie</td>\n",
       "      <td>/wiki/Cit%C3%A9_des_Sciences_et_de_l%27Industrie</td>\n",
       "      <td>Q1094338</td>\n",
       "      <td>France</td>\n",
       "      <td>/wiki/France</td>\n",
       "      <td>Q142</td>\n",
       "      <td>Paris</td>\n",
       "      <td>/wiki/Paris</td>\n",
       "      <td>Q90</td>\n",
       "      <td>2370000</td>\n",
       "      <td>2187526</td>\n",
       "      <td>66628000</td>\n",
       "      <td>21</td>\n",
       "      <td>Europe</td>\n",
       "      <td>national museum, museum</td>\n",
       "      <td>0</td>\n",
       "    </tr>\n",
       "    <tr>\n",
       "      <th>54</th>\n",
       "      <td>Galleria degli Uffizi</td>\n",
       "      <td>/wiki/Galleria_degli_Uffizi</td>\n",
       "      <td>Q51252</td>\n",
       "      <td>Italy</td>\n",
       "      <td>/wiki/Italy</td>\n",
       "      <td>Q38</td>\n",
       "      <td>Florence</td>\n",
       "      <td>/wiki/Florence</td>\n",
       "      <td>Q2044</td>\n",
       "      <td>2361732</td>\n",
       "      <td>382258</td>\n",
       "      <td>60317000</td>\n",
       "      <td>67</td>\n",
       "      <td>Europe</td>\n",
       "      <td>art museum, national museum, museum of culture...</td>\n",
       "      <td>1</td>\n",
       "    </tr>\n",
       "    <tr>\n",
       "      <th>55</th>\n",
       "      <td>Inner Mongolia Museum</td>\n",
       "      <td>/wiki/Inner_Mongolia_Museum</td>\n",
       "      <td>Q13410768</td>\n",
       "      <td>China</td>\n",
       "      <td>/wiki/China</td>\n",
       "      <td>Q148</td>\n",
       "      <td>Hohhot</td>\n",
       "      <td>/wiki/Hohhot</td>\n",
       "      <td>Q535534</td>\n",
       "      <td>2361000</td>\n",
       "      <td>2635000</td>\n",
       "      <td>1409517397</td>\n",
       "      <td>8</td>\n",
       "      <td>Asia</td>\n",
       "      <td>museum</td>\n",
       "      <td>0</td>\n",
       "    </tr>\n",
       "    <tr>\n",
       "      <th>56</th>\n",
       "      <td>Auschwitz-Birkenau State Museum</td>\n",
       "      <td>/wiki/Auschwitz-Birkenau_State_Museum</td>\n",
       "      <td>Q819729</td>\n",
       "      <td>Poland</td>\n",
       "      <td>/wiki/Poland</td>\n",
       "      <td>Q36</td>\n",
       "      <td>Oświęcim</td>\n",
       "      <td>/wiki/O%C5%9Bwi%C4%99cim</td>\n",
       "      <td>Q7342</td>\n",
       "      <td>2320000</td>\n",
       "      <td>39057</td>\n",
       "      <td>38382576</td>\n",
       "      <td>15</td>\n",
       "      <td>Europe</td>\n",
       "      <td>military museum, museum</td>\n",
       "      <td>0</td>\n",
       "    </tr>\n",
       "    <tr>\n",
       "      <th>57</th>\n",
       "      <td>Three Gorges Museum</td>\n",
       "      <td>/wiki/Three_Gorges_Museum</td>\n",
       "      <td>Q10872783</td>\n",
       "      <td>China</td>\n",
       "      <td>/wiki/China</td>\n",
       "      <td>Q148</td>\n",
       "      <td>Chongqing</td>\n",
       "      <td>/wiki/Chongqing</td>\n",
       "      <td>Q11725</td>\n",
       "      <td>2301900</td>\n",
       "      <td>7990000</td>\n",
       "      <td>1409517397</td>\n",
       "      <td>7</td>\n",
       "      <td>Asia</td>\n",
       "      <td>museum</td>\n",
       "      <td>0</td>\n",
       "    </tr>\n",
       "    <tr>\n",
       "      <th>58</th>\n",
       "      <td>National Folk Museum of Korea</td>\n",
       "      <td>/wiki/National_Folk_Museum_of_Korea</td>\n",
       "      <td>Q486449</td>\n",
       "      <td>South Korea</td>\n",
       "      <td>/wiki/South_Korea</td>\n",
       "      <td>Q884</td>\n",
       "      <td>Seoul</td>\n",
       "      <td>/wiki/Seoul</td>\n",
       "      <td>Q8684</td>\n",
       "      <td>2286276</td>\n",
       "      <td>9806538</td>\n",
       "      <td>51466201</td>\n",
       "      <td>18</td>\n",
       "      <td>Asia</td>\n",
       "      <td>national museum, museum</td>\n",
       "      <td>0</td>\n",
       "    </tr>\n",
       "    <tr>\n",
       "      <th>59</th>\n",
       "      <td>Liaoning Provincial Museum</td>\n",
       "      <td>/wiki/Liaoning_Provincial_Museum</td>\n",
       "      <td>Q3330767</td>\n",
       "      <td>China</td>\n",
       "      <td>/wiki/China</td>\n",
       "      <td>Q148</td>\n",
       "      <td>Shenyang</td>\n",
       "      <td>/wiki/Shenyang</td>\n",
       "      <td>Q11720</td>\n",
       "      <td>2280000</td>\n",
       "      <td>7935000</td>\n",
       "      <td>1409517397</td>\n",
       "      <td>8</td>\n",
       "      <td>Asia</td>\n",
       "      <td>museum</td>\n",
       "      <td>0</td>\n",
       "    </tr>\n",
       "    <tr>\n",
       "      <th>60</th>\n",
       "      <td>Chengdu Museum</td>\n",
       "      <td>/w/index.php?title=Chengdu_Museum&amp;action=edit&amp;...</td>\n",
       "      <td></td>\n",
       "      <td>China</td>\n",
       "      <td>/wiki/China</td>\n",
       "      <td>Q148</td>\n",
       "      <td>Chengdu</td>\n",
       "      <td>/wiki/Chengdu</td>\n",
       "      <td>Q30002</td>\n",
       "      <td>2259000</td>\n",
       "      <td>11050000</td>\n",
       "      <td>1409517397</td>\n",
       "      <td>0</td>\n",
       "      <td>Asia</td>\n",
       "      <td></td>\n",
       "      <td>0</td>\n",
       "    </tr>\n",
       "    <tr>\n",
       "      <th>61</th>\n",
       "      <td>Guangdong Museum</td>\n",
       "      <td>/wiki/Guangdong_Museum</td>\n",
       "      <td>Q5613644</td>\n",
       "      <td>China</td>\n",
       "      <td>/wiki/China</td>\n",
       "      <td>Q148</td>\n",
       "      <td>Guangzhou</td>\n",
       "      <td>/wiki/Guangzhou</td>\n",
       "      <td>Q16572</td>\n",
       "      <td>2234800</td>\n",
       "      <td>13080500</td>\n",
       "      <td>1409517397</td>\n",
       "      <td>8</td>\n",
       "      <td>Asia</td>\n",
       "      <td>museum</td>\n",
       "      <td>0</td>\n",
       "    </tr>\n",
       "    <tr>\n",
       "      <th>62</th>\n",
       "      <td>Wenzhou Museum</td>\n",
       "      <td>/w/index.php?title=Wenzhou_Museum&amp;action=edit&amp;...</td>\n",
       "      <td></td>\n",
       "      <td>China</td>\n",
       "      <td>/wiki/China</td>\n",
       "      <td>Q148</td>\n",
       "      <td>Wenzhou</td>\n",
       "      <td>/wiki/Wenzhou</td>\n",
       "      <td>Q42635</td>\n",
       "      <td>2229900</td>\n",
       "      <td>4310000</td>\n",
       "      <td>1409517397</td>\n",
       "      <td>0</td>\n",
       "      <td>Asia</td>\n",
       "      <td></td>\n",
       "      <td>0</td>\n",
       "    </tr>\n",
       "    <tr>\n",
       "      <th>63</th>\n",
       "      <td>National Museum of Scotland</td>\n",
       "      <td>/wiki/National_Museum_of_Scotland</td>\n",
       "      <td>Q1633842</td>\n",
       "      <td>United Kingdom</td>\n",
       "      <td>/wiki/United_Kingdom</td>\n",
       "      <td>Q145</td>\n",
       "      <td>Edinburgh</td>\n",
       "      <td>/wiki/Edinburgh</td>\n",
       "      <td>Q23436</td>\n",
       "      <td>2210024</td>\n",
       "      <td>513210</td>\n",
       "      <td>66022273</td>\n",
       "      <td>24</td>\n",
       "      <td>Europe</td>\n",
       "      <td>national museum, museum</td>\n",
       "      <td>0</td>\n",
       "    </tr>\n",
       "    <tr>\n",
       "      <th>64</th>\n",
       "      <td>California Science Center</td>\n",
       "      <td>/wiki/California_Science_Center</td>\n",
       "      <td>Q1067376</td>\n",
       "      <td>United States</td>\n",
       "      <td>/wiki/United_States</td>\n",
       "      <td>Q30</td>\n",
       "      <td>Los Angeles</td>\n",
       "      <td>/wiki/Los_Angeles</td>\n",
       "      <td>Q65</td>\n",
       "      <td>2200000</td>\n",
       "      <td>3976322</td>\n",
       "      <td>325145963</td>\n",
       "      <td>7</td>\n",
       "      <td>North America</td>\n",
       "      <td>museum</td>\n",
       "      <td>0</td>\n",
       "    </tr>\n",
       "    <tr>\n",
       "      <th>65</th>\n",
       "      <td>Van Gogh Museum</td>\n",
       "      <td>/wiki/Van_Gogh_Museum</td>\n",
       "      <td>Q224124</td>\n",
       "      <td>Netherlands</td>\n",
       "      <td>/wiki/Netherlands</td>\n",
       "      <td>Q55</td>\n",
       "      <td>Amsterdam</td>\n",
       "      <td>/wiki/Amsterdam</td>\n",
       "      <td>Q727</td>\n",
       "      <td>2100000</td>\n",
       "      <td>860124</td>\n",
       "      <td>17282163</td>\n",
       "      <td>52</td>\n",
       "      <td>Central America</td>\n",
       "      <td>art museum, museum of culture, museum</td>\n",
       "      <td>1</td>\n",
       "    </tr>\n",
       "    <tr>\n",
       "      <th>66</th>\n",
       "      <td>Shanghai Museum</td>\n",
       "      <td>/wiki/Shanghai_Museum</td>\n",
       "      <td>Q1051293</td>\n",
       "      <td>China</td>\n",
       "      <td>/wiki/China</td>\n",
       "      <td>Q148</td>\n",
       "      <td>Shanghai</td>\n",
       "      <td>/wiki/Shanghai</td>\n",
       "      <td>Q8686</td>\n",
       "      <td>2070270</td>\n",
       "      <td>23390000</td>\n",
       "      <td>1409517397</td>\n",
       "      <td>28</td>\n",
       "      <td>Asia</td>\n",
       "      <td>museum</td>\n",
       "      <td>0</td>\n",
       "    </tr>\n",
       "    <tr>\n",
       "      <th>67</th>\n",
       "      <td>Suzhou Museum</td>\n",
       "      <td>/wiki/Suzhou_Museum</td>\n",
       "      <td>Q998042</td>\n",
       "      <td>China</td>\n",
       "      <td>/wiki/China</td>\n",
       "      <td>Q148</td>\n",
       "      <td>Suzhou</td>\n",
       "      <td>/wiki/Suzhou</td>\n",
       "      <td>Q42622</td>\n",
       "      <td>2030000</td>\n",
       "      <td>10465994</td>\n",
       "      <td>1409517397</td>\n",
       "      <td>9</td>\n",
       "      <td>Asia</td>\n",
       "      <td>museum</td>\n",
       "      <td>0</td>\n",
       "    </tr>\n",
       "    <tr>\n",
       "      <th>68</th>\n",
       "      <td>National Museum of African American History an...</td>\n",
       "      <td>/wiki/National_Museum_of_African_American_Hist...</td>\n",
       "      <td>Q3073495</td>\n",
       "      <td>United States</td>\n",
       "      <td>/wiki/United_States</td>\n",
       "      <td>Q30</td>\n",
       "      <td>Washington, D.C.</td>\n",
       "      <td>/wiki/Washington,_D.C.</td>\n",
       "      <td>Q61</td>\n",
       "      <td>2000000</td>\n",
       "      <td>705749</td>\n",
       "      <td>325145963</td>\n",
       "      <td>11</td>\n",
       "      <td>North America</td>\n",
       "      <td>African-American museum, museum</td>\n",
       "      <td>0</td>\n",
       "    </tr>\n",
       "  </tbody>\n",
       "</table>\n",
       "</div>"
      ],
      "text/plain": [
       "                                               Museum  \\\n",
       "0                                              Louvre   \n",
       "1                            National Museum of China   \n",
       "2                                     Vatican Museums   \n",
       "3                          Metropolitan Museum of Art   \n",
       "4                                      British Museum   \n",
       "5                                         Tate Modern   \n",
       "6                                    National Gallery   \n",
       "7                              Natural History Museum   \n",
       "8                  American Museum of Natural History   \n",
       "9                              State Hermitage Museum   \n",
       "10             Shanghai Science and Technology Museum   \n",
       "11                                  Museo Reina Sofía   \n",
       "12          Guangdong Museum of Revolutionary History   \n",
       "13                 National Museum of Natural History   \n",
       "14                                     Nanjing Museum   \n",
       "15                                    Zhejiang Museum   \n",
       "16                            National Gallery of Art   \n",
       "17                         Victoria and Albert Museum   \n",
       "18                China Science and Technology Museum   \n",
       "19  Military Museum of the Chinese People's Revolu...   \n",
       "20                             National Palace Museum   \n",
       "21                                    Shenzhen Museum   \n",
       "22                                      Musée d'Orsay   \n",
       "23                                    Museo del Prado   \n",
       "24                                     Mevlana Museum   \n",
       "25                                      Xi'an Museum    \n",
       "26                           National Museum of Korea   \n",
       "27                                    Centre Pompidou   \n",
       "28                              London Science Museum   \n",
       "29                      National Air and Space Museum   \n",
       "30                     Tianjin Natural History Museum   \n",
       "31                                       Hunan Museum   \n",
       "32                             Moscow Kremlin Museums   \n",
       "33                    National Museum of Anthropology   \n",
       "34           National Taiwan Science Education Center   \n",
       "35                            Royal Museums Greenwich   \n",
       "36                             Shaanxi History Museum   \n",
       "37                      Tokyo Metropolitan Art Museum   \n",
       "38                                     Somerset House   \n",
       "39                                  Tretyakov Gallery   \n",
       "40                         National Museum of History   \n",
       "41                National Museum of American History   \n",
       "42                                        Rijksmuseum   \n",
       "43                              Tokyo National Museum   \n",
       "44                 National Museum of Natural Science   \n",
       "45                Chongqing Museum of Natural History   \n",
       "46                    Centro Cultural Banco do Brasil   \n",
       "47                    Shanghai Natural History Museum   \n",
       "48              National Museum of Nature and Science   \n",
       "49                 Zhejiang Museum of Natural History   \n",
       "50                                  NGV International   \n",
       "51                            Hubei Provincial Museum   \n",
       "52                                     Russian Museum   \n",
       "53                Cité des Sciences et de l'Industrie   \n",
       "54                              Galleria degli Uffizi   \n",
       "55                              Inner Mongolia Museum   \n",
       "56                    Auschwitz-Birkenau State Museum   \n",
       "57                                Three Gorges Museum   \n",
       "58                      National Folk Museum of Korea   \n",
       "59                         Liaoning Provincial Museum   \n",
       "60                                    Chengdu Museum    \n",
       "61                                   Guangdong Museum   \n",
       "62                                    Wenzhou Museum    \n",
       "63                        National Museum of Scotland   \n",
       "64                          California Science Center   \n",
       "65                                    Van Gogh Museum   \n",
       "66                                    Shanghai Museum   \n",
       "67                                      Suzhou Museum   \n",
       "68  National Museum of African American History an...   \n",
       "\n",
       "                                          Museum Wiki Museum Wikidata ID  \\\n",
       "0                                        /wiki/Louvre             Q19675   \n",
       "1                      /wiki/National_Museum_of_China           Q1074318   \n",
       "2                               /wiki/Vatican_Museums            Q182955   \n",
       "3                    /wiki/Metropolitan_Museum_of_Art            Q160236   \n",
       "4                                /wiki/British_Museum              Q6373   \n",
       "5                                   /wiki/Tate_Modern            Q193375   \n",
       "6                              /wiki/National_Gallery            Q180788   \n",
       "7                /wiki/Natural_History_Museum,_London            Q309388   \n",
       "8            /wiki/American_Museum_of_Natural_History            Q217717   \n",
       "9                        /wiki/State_Hermitage_Museum            Q132783   \n",
       "10       /wiki/Shanghai_Science_and_Technology_Museum            Q855376   \n",
       "11  /wiki/Museo_Nacional_Centro_de_Arte_Reina_Sof%...            Q460889   \n",
       "12    /wiki/Guangdong_Museum_of_Revolutionary_History           Q5613635   \n",
       "13           /wiki/National_Museum_of_Natural_History            Q148554   \n",
       "14                               /wiki/Nanjing_Museum           Q1815891   \n",
       "15                              /wiki/Zhejiang_Museum           Q1278762   \n",
       "16                      /wiki/National_Gallery_of_Art            Q214867   \n",
       "17                   /wiki/Victoria_and_Albert_Museum            Q213322   \n",
       "18          /wiki/China_Science_and_Technology_Museum           Q1074292   \n",
       "19  /wiki/Military_Museum_of_the_Chinese_People%27...           Q1789184   \n",
       "20                       /wiki/National_Palace_Museum            Q540668   \n",
       "21                              /wiki/Shenzhen_Museum           Q2088192   \n",
       "22                         /wiki/Mus%C3%A9e_d%27Orsay             Q23402   \n",
       "23                              /wiki/Museo_del_Prado            Q160112   \n",
       "24                               /wiki/Mevlana_Museum            Q902957   \n",
       "25  /w/index.php?title=Xi%27an_Museum&action=edit&...                      \n",
       "26                     /wiki/National_Museum_of_Korea            Q494407   \n",
       "27                              /wiki/Centre_Pompidou            Q178065   \n",
       "28                        /wiki/London_Science_Museum            Q674773   \n",
       "29                /wiki/National_Air_and_Space_Museum            Q752669   \n",
       "30               /wiki/Tianjin_Natural_History_Museum          Q15903989   \n",
       "31                                 /wiki/Hunan_Museum           Q5942029   \n",
       "32                       /wiki/Moscow_Kremlin_Museums           Q4304009   \n",
       "33     /wiki/National_Museum_of_Anthropology_(Mexico)            Q524249   \n",
       "34     /wiki/National_Taiwan_Science_Education_Center          Q10927242   \n",
       "35                      /wiki/Royal_Museums_Greenwich           Q7374509   \n",
       "36                       /wiki/Shaanxi_History_Museum           Q1151210   \n",
       "37                /wiki/Tokyo_Metropolitan_Art_Museum            Q864957   \n",
       "38                               /wiki/Somerset_House           Q1344889   \n",
       "39                            /wiki/Tretyakov_Gallery            Q183334   \n",
       "40                   /wiki/Museo_Nacional_de_Historia           Q6940502   \n",
       "41          /wiki/National_Museum_of_American_History            Q148584   \n",
       "42                                  /wiki/Rijksmuseum            Q190804   \n",
       "43                        /wiki/Tokyo_National_Museum            Q653433   \n",
       "44           /wiki/National_Museum_of_Natural_Science           Q3847114   \n",
       "45          /wiki/Chongqing_Museum_of_Natural_History          Q18201907   \n",
       "46              /wiki/Centro_Cultural_Banco_do_Brasil           Q2946151   \n",
       "47              /wiki/Shanghai_Natural_History_Museum           Q1312291   \n",
       "48        /wiki/National_Museum_of_Nature_and_Science             Q74940   \n",
       "49           /wiki/Zhejiang_Museum_of_Natural_History          Q11148852   \n",
       "50                 /wiki/National_Gallery_of_Victoria           Q1464509   \n",
       "51                      /wiki/Hubei_Provincial_Museum           Q4391403   \n",
       "52                               /wiki/Russian_Museum            Q211043   \n",
       "53   /wiki/Cit%C3%A9_des_Sciences_et_de_l%27Industrie           Q1094338   \n",
       "54                        /wiki/Galleria_degli_Uffizi             Q51252   \n",
       "55                        /wiki/Inner_Mongolia_Museum          Q13410768   \n",
       "56              /wiki/Auschwitz-Birkenau_State_Museum            Q819729   \n",
       "57                          /wiki/Three_Gorges_Museum          Q10872783   \n",
       "58                /wiki/National_Folk_Museum_of_Korea            Q486449   \n",
       "59                   /wiki/Liaoning_Provincial_Museum           Q3330767   \n",
       "60  /w/index.php?title=Chengdu_Museum&action=edit&...                      \n",
       "61                             /wiki/Guangdong_Museum           Q5613644   \n",
       "62  /w/index.php?title=Wenzhou_Museum&action=edit&...                      \n",
       "63                  /wiki/National_Museum_of_Scotland           Q1633842   \n",
       "64                    /wiki/California_Science_Center           Q1067376   \n",
       "65                              /wiki/Van_Gogh_Museum            Q224124   \n",
       "66                              /wiki/Shanghai_Museum           Q1051293   \n",
       "67                                /wiki/Suzhou_Museum            Q998042   \n",
       "68  /wiki/National_Museum_of_African_American_Hist...           Q3073495   \n",
       "\n",
       "           Country          Country Wiki Country Wikidata ID  \\\n",
       "0           France          /wiki/France                Q142   \n",
       "1            China           /wiki/China                Q148   \n",
       "2     Vatican City    /wiki/Vatican_City                Q237   \n",
       "3    United States   /wiki/United_States                 Q30   \n",
       "4   United Kingdom  /wiki/United_Kingdom                Q145   \n",
       "5   United Kingdom  /wiki/United_Kingdom                Q145   \n",
       "6   United Kingdom  /wiki/United_Kingdom                Q145   \n",
       "7   United Kingdom  /wiki/United_Kingdom                Q145   \n",
       "8    United States   /wiki/United_States                 Q30   \n",
       "9           Russia          /wiki/Russia                Q159   \n",
       "10           China           /wiki/China                Q148   \n",
       "11           Spain           /wiki/Spain                 Q29   \n",
       "12           China           /wiki/China                Q148   \n",
       "13   United States   /wiki/United_States                 Q30   \n",
       "14           China           /wiki/China                Q148   \n",
       "15           China           /wiki/China                Q148   \n",
       "16   United States   /wiki/United_States                 Q30   \n",
       "17  United Kingdom  /wiki/United_Kingdom                Q145   \n",
       "18           China           /wiki/China                Q148   \n",
       "19           China           /wiki/China                Q148   \n",
       "20          Taiwan          /wiki/Taiwan                Q865   \n",
       "21           China           /wiki/China                Q148   \n",
       "22          France          /wiki/France                Q142   \n",
       "23           Spain           /wiki/Spain                 Q29   \n",
       "24          Turkey          /wiki/Turkey                 Q43   \n",
       "25           China           /wiki/China                Q148   \n",
       "26     South Korea     /wiki/South_Korea                Q884   \n",
       "27          France          /wiki/France                Q142   \n",
       "28  United Kingdom  /wiki/United_Kingdom                Q145   \n",
       "29   United States   /wiki/United_States                 Q30   \n",
       "30           China           /wiki/China                Q148   \n",
       "31           China           /wiki/China                Q148   \n",
       "32          Russia          /wiki/Russia                Q159   \n",
       "33          Mexico          /wiki/Mexico                 Q96   \n",
       "34          Taiwan          /wiki/Taiwan                Q865   \n",
       "35  United Kingdom  /wiki/United_Kingdom                Q145   \n",
       "36           China           /wiki/China                Q148   \n",
       "37           Japan           /wiki/Japan                 Q17   \n",
       "38  United Kingdom  /wiki/United_Kingdom                Q145   \n",
       "39          Russia          /wiki/Russia                Q159   \n",
       "40          Mexico          /wiki/Mexico                 Q96   \n",
       "41   United States   /wiki/United_States                 Q30   \n",
       "42     Netherlands     /wiki/Netherlands                 Q55   \n",
       "43           Japan           /wiki/Japan                 Q17   \n",
       "44          Taiwan          /wiki/Taiwan                Q865   \n",
       "45           China           /wiki/China                Q148   \n",
       "46          Brazil          /wiki/Brazil                Q155   \n",
       "47           China           /wiki/China                Q148   \n",
       "48           Japan           /wiki/Japan                 Q17   \n",
       "49           China           /wiki/China                Q148   \n",
       "50       Australia       /wiki/Australia                Q408   \n",
       "51           China           /wiki/China                Q148   \n",
       "52          Russia          /wiki/Russia                Q159   \n",
       "53          France          /wiki/France                Q142   \n",
       "54           Italy           /wiki/Italy                 Q38   \n",
       "55           China           /wiki/China                Q148   \n",
       "56          Poland          /wiki/Poland                 Q36   \n",
       "57           China           /wiki/China                Q148   \n",
       "58     South Korea     /wiki/South_Korea                Q884   \n",
       "59           China           /wiki/China                Q148   \n",
       "60           China           /wiki/China                Q148   \n",
       "61           China           /wiki/China                Q148   \n",
       "62           China           /wiki/China                Q148   \n",
       "63  United Kingdom  /wiki/United_Kingdom                Q145   \n",
       "64   United States   /wiki/United_States                 Q30   \n",
       "65     Netherlands     /wiki/Netherlands                 Q55   \n",
       "66           China           /wiki/China                Q148   \n",
       "67           China           /wiki/China                Q148   \n",
       "68   United States   /wiki/United_States                 Q30   \n",
       "\n",
       "                City                 City Wiki City Wikidata ID  \\\n",
       "0              Paris               /wiki/Paris              Q90   \n",
       "1            Beijing             /wiki/Beijing             Q956   \n",
       "2       Vatican City        /wiki/Vatican_City             Q237   \n",
       "3      New York City       /wiki/New_York_City              Q60   \n",
       "4             London              /wiki/London              Q84   \n",
       "5             London              /wiki/London              Q84   \n",
       "6             London              /wiki/London              Q84   \n",
       "7             London              /wiki/London              Q84   \n",
       "8      New York City       /wiki/New_York_City              Q60   \n",
       "9   Saint Petersburg    /wiki/Saint_Petersburg             Q656   \n",
       "10          Shanghai            /wiki/Shanghai            Q8686   \n",
       "11            Madrid              /wiki/Madrid            Q2807   \n",
       "12         Guangzhou           /wiki/Guangzhou           Q16572   \n",
       "13  Washington, D.C.    /wiki/Washington,_D.C.              Q61   \n",
       "14           Nanjing             /wiki/Nanjing           Q16666   \n",
       "15          Hangzhou            /wiki/Hangzhou            Q4970   \n",
       "16  Washington, D.C.    /wiki/Washington,_D.C.              Q61   \n",
       "17            London              /wiki/London              Q84   \n",
       "18           Beijing             /wiki/Beijing             Q956   \n",
       "19           Beijing             /wiki/Beijing             Q956   \n",
       "20            Taipei              /wiki/Taipei            Q1867   \n",
       "21          Shenzhen            /wiki/Shenzhen           Q15174   \n",
       "22             Paris               /wiki/Paris              Q90   \n",
       "23            Madrid              /wiki/Madrid            Q2807   \n",
       "24             Konya               /wiki/Konya           Q79857   \n",
       "25             Xi'an             /wiki/Xi%27an            Q5826   \n",
       "26             Seoul               /wiki/Seoul            Q8684   \n",
       "27             Paris               /wiki/Paris              Q90   \n",
       "28            London              /wiki/London              Q84   \n",
       "29  Washington, D.C.    /wiki/Washington,_D.C.              Q61   \n",
       "30           Tianjin             /wiki/Tianjin           Q11736   \n",
       "31          Changsha            /wiki/Changsha          Q174091   \n",
       "32            Moscow              /wiki/Moscow             Q649   \n",
       "33       Mexico City         /wiki/Mexico_City            Q1489   \n",
       "34            Taipei              /wiki/Taipei            Q1867   \n",
       "35            London              /wiki/London              Q84   \n",
       "36             Xi'an             /wiki/Xi%27an            Q5826   \n",
       "37             Tokyo               /wiki/Tokyo            Q1490   \n",
       "38            London              /wiki/London              Q84   \n",
       "39            Moscow              /wiki/Moscow             Q649   \n",
       "40       Mexico City         /wiki/Mexico_City            Q1489   \n",
       "41  Washington, D.C.    /wiki/Washington,_D.C.              Q61   \n",
       "42         Amsterdam           /wiki/Amsterdam             Q727   \n",
       "43             Tokyo               /wiki/Tokyo            Q1490   \n",
       "44          Taichung            /wiki/Taichung          Q245023   \n",
       "45         Chongqing           /wiki/Chongqing           Q11725   \n",
       "46    Rio de Janeiro      /wiki/Rio_de_Janeiro            Q8678   \n",
       "47          Shanghai            /wiki/Shanghai            Q8686   \n",
       "48             Tokyo               /wiki/Tokyo            Q1490   \n",
       "49          Hangzhou            /wiki/Hangzhou            Q4970   \n",
       "50         Melbourne           /wiki/Melbourne            Q3141   \n",
       "51             Wuhan               /wiki/Wuhan           Q11746   \n",
       "52  Saint Petersburg    /wiki/Saint_Petersburg             Q656   \n",
       "53             Paris               /wiki/Paris              Q90   \n",
       "54          Florence            /wiki/Florence            Q2044   \n",
       "55            Hohhot              /wiki/Hohhot          Q535534   \n",
       "56          Oświęcim  /wiki/O%C5%9Bwi%C4%99cim            Q7342   \n",
       "57         Chongqing           /wiki/Chongqing           Q11725   \n",
       "58             Seoul               /wiki/Seoul            Q8684   \n",
       "59          Shenyang            /wiki/Shenyang           Q11720   \n",
       "60           Chengdu             /wiki/Chengdu           Q30002   \n",
       "61         Guangzhou           /wiki/Guangzhou           Q16572   \n",
       "62           Wenzhou             /wiki/Wenzhou           Q42635   \n",
       "63         Edinburgh           /wiki/Edinburgh           Q23436   \n",
       "64       Los Angeles         /wiki/Los_Angeles              Q65   \n",
       "65         Amsterdam           /wiki/Amsterdam             Q727   \n",
       "66          Shanghai            /wiki/Shanghai            Q8686   \n",
       "67            Suzhou              /wiki/Suzhou           Q42622   \n",
       "68  Washington, D.C.    /wiki/Washington,_D.C.              Q61   \n",
       "\n",
       "    Visitors per year  City population  Country population  \\\n",
       "0             9600000          2187526            66628000   \n",
       "1             7390000         21710000          1409517397   \n",
       "2             6882931             1000                1000   \n",
       "3             6479548          8398748           325145963   \n",
       "4             6239983          8908081            66022273   \n",
       "5             6098340          8908081            66022273   \n",
       "6             6011007          8908081            66022273   \n",
       "7             5424000          8908081            66022273   \n",
       "8             5000000          8398748           325145963   \n",
       "9             4956529          5351935           146804372   \n",
       "10            4824000         23390000          1409517397   \n",
       "11            4425699          3266126            46733038   \n",
       "12            4257100         13080500          1409517397   \n",
       "13            4200000           705749           325145963   \n",
       "14            4169000          6320000          1409517397   \n",
       "15            4150000          9468000          1409517397   \n",
       "16            4074403           705749           325145963   \n",
       "17            3932938          8908081            66022273   \n",
       "18            3891000         21710000          1409517397   \n",
       "19            3870000         21710000          1409517397   \n",
       "20            3832373          2684567            23593794   \n",
       "21            3826000         11908400          1409517397   \n",
       "22            3651616          2187526            66628000   \n",
       "23            3497345          3266126            46733038   \n",
       "24            3464155          2232374            82003882   \n",
       "25            3420000          5740000          1409517397   \n",
       "26            3354161          9806538            51466201   \n",
       "27            3273867          2187526            66628000   \n",
       "28            3254000          8908081            66022273   \n",
       "29            3200000           705749           325145963   \n",
       "30            3150000         13245000          1409517397   \n",
       "31            3140000          7044118          1409517397   \n",
       "32            3101550         12500123           146804372   \n",
       "33            3086555          8918653           130526945   \n",
       "34            3000000          2684567            23593794   \n",
       "35            2906000          8908081            66022273   \n",
       "36            2900000          5740000          1409517397   \n",
       "37            2873806         13942856           126785797   \n",
       "38            2841772          8908081            66022273   \n",
       "39            2835836         12500123           146804372   \n",
       "40            2811646          8918653           130526945   \n",
       "41            2800000           705749           325145963   \n",
       "42            2700000           860124            17282163   \n",
       "43            2684754         13942856           126785797   \n",
       "44            2650000          2803894            23593794   \n",
       "45            2624700          7990000          1409517397   \n",
       "46            2606999          6520266           210147125   \n",
       "47            2549000         23390000          1409517397   \n",
       "48            2460000         13942856           126785797   \n",
       "49            2443000          9468000          1409517397   \n",
       "50            2432883          4529500            24511800   \n",
       "51            2400000         11895000          1409517397   \n",
       "52            2394400          5351935           146804372   \n",
       "53            2370000          2187526            66628000   \n",
       "54            2361732           382258            60317000   \n",
       "55            2361000          2635000          1409517397   \n",
       "56            2320000            39057            38382576   \n",
       "57            2301900          7990000          1409517397   \n",
       "58            2286276          9806538            51466201   \n",
       "59            2280000          7935000          1409517397   \n",
       "60            2259000         11050000          1409517397   \n",
       "61            2234800         13080500          1409517397   \n",
       "62            2229900          4310000          1409517397   \n",
       "63            2210024           513210            66022273   \n",
       "64            2200000          3976322           325145963   \n",
       "65            2100000           860124            17282163   \n",
       "66            2070270         23390000          1409517397   \n",
       "67            2030000         10465994          1409517397   \n",
       "68            2000000           705749           325145963   \n",
       "\n",
       "    Wiki languages count        Continent  \\\n",
       "0                    152           Europe   \n",
       "1                     30             Asia   \n",
       "2                     56           Europe   \n",
       "3                     75    North America   \n",
       "4                     92           Europe   \n",
       "5                     53           Europe   \n",
       "6                     64           Europe   \n",
       "7                     50           Europe   \n",
       "8                     48    North America   \n",
       "9                     75           Europe   \n",
       "10                     9             Asia   \n",
       "11                    42           Europe   \n",
       "12                     5             Asia   \n",
       "13                    37    North America   \n",
       "14                    18             Asia   \n",
       "15                     8             Asia   \n",
       "16                    49    North America   \n",
       "17                    54           Europe   \n",
       "18                     6             Asia   \n",
       "19                    12             Asia   \n",
       "20                    37             Asia   \n",
       "21                     4             Asia   \n",
       "22                   122           Europe   \n",
       "23                    71           Europe   \n",
       "24                    15             Asia   \n",
       "25                     0             Asia   \n",
       "26                    31             Asia   \n",
       "27                    57           Europe   \n",
       "28                    39           Europe   \n",
       "29                    32    North America   \n",
       "30                     4             Asia   \n",
       "31                    10             Asia   \n",
       "32                     6           Europe   \n",
       "33                    35    North America   \n",
       "34                     4             Asia   \n",
       "35                     4           Europe   \n",
       "36                    12             Asia   \n",
       "37                    13             Asia   \n",
       "38                    27           Europe   \n",
       "39                    54           Europe   \n",
       "40                     4    North America   \n",
       "41                    24    North America   \n",
       "42                    57  Central America   \n",
       "43                    45             Asia   \n",
       "44                     7             Asia   \n",
       "45                     5             Asia   \n",
       "46                    11    South America   \n",
       "47                     9             Asia   \n",
       "48                    22             Asia   \n",
       "49                     7             Asia   \n",
       "50                    28          Oceania   \n",
       "51                     9             Asia   \n",
       "52                    44           Europe   \n",
       "53                    21           Europe   \n",
       "54                    67           Europe   \n",
       "55                     8             Asia   \n",
       "56                    15           Europe   \n",
       "57                     7             Asia   \n",
       "58                    18             Asia   \n",
       "59                     8             Asia   \n",
       "60                     0             Asia   \n",
       "61                     8             Asia   \n",
       "62                     0             Asia   \n",
       "63                    24           Europe   \n",
       "64                     7    North America   \n",
       "65                    52  Central America   \n",
       "66                    28             Asia   \n",
       "67                     9             Asia   \n",
       "68                    11    North America   \n",
       "\n",
       "                                         Museum types  Art/culture museum  \n",
       "0               art museum, museum of culture, museum                   1  \n",
       "1                             national museum, museum                   0  \n",
       "2   art museum, national museum, museum of culture...                   1  \n",
       "3               art museum, museum of culture, museum                   1  \n",
       "4                             national museum, museum                   0  \n",
       "5               art museum, museum of culture, museum                   1  \n",
       "6               art museum, museum of culture, museum                   1  \n",
       "7   science museum, natural history museum, nation...                   0  \n",
       "8   science museum, natural history museum, histor...                   0  \n",
       "9               art museum, museum of culture, museum                   1  \n",
       "10                                             museum                   0  \n",
       "11  art museum, national museum, museum of culture...                   1  \n",
       "12                                             museum                   0  \n",
       "13  science museum, natural history museum, histor...                   0  \n",
       "14              art museum, museum of culture, museum                   1  \n",
       "15                                             museum                   0  \n",
       "16              art museum, museum of culture, museum                   1  \n",
       "17  art museum, museum of culture, design museum, ...                   1  \n",
       "18          science museum, technology museum, museum                   0  \n",
       "19                            military museum, museum                   0  \n",
       "20                            national museum, museum                   0  \n",
       "21                                             museum                   0  \n",
       "22              art museum, museum of culture, museum                   1  \n",
       "23  art museum, national museum, museum of culture...                   1  \n",
       "24                                             museum                   0  \n",
       "25                                                                      0  \n",
       "26                            national museum, museum                   0  \n",
       "27  art museum, national museum, museum of culture...                   1  \n",
       "28          science museum, technology museum, museum                   0  \n",
       "29  science museum, transport museum, aviation mus...                   0  \n",
       "30                                             museum                   0  \n",
       "31                                             museum                   0  \n",
       "32                                             museum                   0  \n",
       "33                            national museum, museum                   0  \n",
       "34                                                                      0  \n",
       "35                                             museum                   0  \n",
       "36                             history museum, museum                   0  \n",
       "37              art museum, museum of culture, museum                   1  \n",
       "38                                                                      0  \n",
       "39              art museum, museum of culture, museum                   1  \n",
       "40                            national museum, museum                   0  \n",
       "41            national museum, history museum, museum                   0  \n",
       "42  art museum, national museum, history museum, m...                   1  \n",
       "43                            national museum, museum                   0  \n",
       "44            science museum, national museum, museum                   0  \n",
       "45  science museum, natural history museum, histor...                   0  \n",
       "46                                                                      0  \n",
       "47                                             museum                   0  \n",
       "48            science museum, national museum, museum                   0  \n",
       "49                                             museum                   0  \n",
       "50              art museum, museum of culture, museum                   1  \n",
       "51                                             museum                   0  \n",
       "52              art museum, museum of culture, museum                   1  \n",
       "53                            national museum, museum                   0  \n",
       "54  art museum, national museum, museum of culture...                   1  \n",
       "55                                             museum                   0  \n",
       "56                            military museum, museum                   0  \n",
       "57                                             museum                   0  \n",
       "58                            national museum, museum                   0  \n",
       "59                                             museum                   0  \n",
       "60                                                                      0  \n",
       "61                                             museum                   0  \n",
       "62                                                                      0  \n",
       "63                            national museum, museum                   0  \n",
       "64                                             museum                   0  \n",
       "65              art museum, museum of culture, museum                   1  \n",
       "66                                             museum                   0  \n",
       "67                                             museum                   0  \n",
       "68                    African-American museum, museum                   0  "
      ]
     },
     "execution_count": 50,
     "metadata": {},
     "output_type": "execute_result"
    }
   ],
   "source": [
    "\n",
    "df"
   ]
  },
  {
   "cell_type": "markdown",
   "metadata": {},
   "source": [
    "### Exploring the dataset\n",
    "\n",
    "Let's explore the dataset with drawing multiple scatterplots showing correlation between different numerical features we have extracted.\n",
    "\n",
    "To add more information we also divide the dataset between museums displaying pieces of art and the rest (military museums, engineering museums etc.)"
   ]
  },
  {
   "cell_type": "code",
   "execution_count": 51,
   "metadata": {},
   "outputs": [
    {
     "data": {
      "image/png": "[encoded data removed]",
      "text/plain": [
       "<Figure size 849.175x720 with 20 Axes>"
      ]
     },
     "metadata": {},
     "output_type": "display_data"
    }
   ],
   "source": [
    "import seaborn as sns\n",
    "sns.set_theme(style=\"ticks\")\n",
    "\n",
    "sns.pairplot(df, hue=\"Art/culture museum\");"
   ]
  },
  {
   "cell_type": "markdown",
   "metadata": {},
   "source": [
    "### Predicting number of visitors by city population\n",
    "\n",
    "In following experiment we are trying to find whether we could predict the yearly number of visitors of museum using the population of the city where museum resides.\n",
    "\n",
    "First we build simple linear regression model."
   ]
  },
  {
   "cell_type": "code",
   "execution_count": 52,
   "metadata": {},
   "outputs": [],
   "source": [
    "import numpy as np\n",
    "\n",
    "from sklearn.linear_model import LinearRegression\n",
    "from sklearn.model_selection import train_test_split\n",
    "\n",
    "X = df[['City population']].values.reshape(-1, 1) \n",
    "X_train, X_test, y_train, y_test = train_test_split(X, df['Visitors per year'], random_state=0)\n",
    "\n",
    "model = LinearRegression()\n",
    "model.fit(X_train, y_train)\n",
    "\n",
    "x_range = np.linspace(X.min(), X.max(), 100)\n",
    "y_range = model.predict(x_range.reshape(-1, 1))\n",
    "\n",
    "# Uncomment and run for detailed statistics about the learned model\n",
    "# from statsmodels.api import OLS\n",
    "# OLS(y_test.values,model.predict(X_test)).fit().summary()"
   ]
  },
  {
   "cell_type": "markdown",
   "metadata": {},
   "source": [
    "### Visualizing the model\n",
    "\n",
    "We can now show the testing and training set in scatter plot to observe how precise is our predictor"
   ]
  },
  {
   "cell_type": "code",
   "execution_count": 53,
   "metadata": {},
   "outputs": [
    {
     "data": {
      "application/vnd.plotly.v1+json": {
       "config": {
        "plotlyServerURL": "https://plot.ly"
       },
       "data": [
        {
         "hovertemplate": "City population=%{x}<br>Visitors per year=%{y}<extra></extra>",
         "legendgroup": "",
         "marker": {
          "color": "#636efa",
          "line": {
           "color": "DarkSlateGrey",
           "width": 2
          },
          "size": 12,
          "symbol": "circle"
         },
         "mode": "markers",
         "name": "",
         "orientation": "v",
         "showlegend": false,
         "type": "scatter",
         "x": [
          2187526,
          21710000,
          1000,
          8398748,
          8908081,
          8908081,
          8908081,
          8908081,
          8398748,
          5351935,
          23390000,
          3266126,
          13080500,
          705749,
          6320000,
          9468000,
          705749,
          8908081,
          21710000,
          21710000,
          2684567,
          11908400,
          2187526,
          3266126,
          2232374,
          5740000,
          9806538,
          2187526,
          8908081,
          705749,
          13245000,
          7044118,
          12500123,
          8918653,
          2684567,
          8908081,
          5740000,
          13942856,
          8908081,
          12500123,
          8918653,
          705749,
          860124,
          13942856,
          2803894,
          7990000,
          6520266,
          23390000,
          13942856,
          9468000,
          4529500,
          11895000,
          5351935,
          2187526,
          382258,
          2635000,
          39057,
          7990000,
          9806538,
          7935000,
          11050000,
          13080500,
          4310000,
          513210,
          3976322,
          860124,
          23390000,
          10465994,
          705749
         ],
         "xaxis": "x",
         "y": [
          9600000,
          7390000,
          6882931,
          6479548,
          6239983,
          6098340,
          6011007,
          5424000,
          5000000,
          4956529,
          4824000,
          4425699,
          4257100,
          4200000,
          4169000,
          4150000,
          4074403,
          3932938,
          3891000,
          3870000,
          3832373,
          3826000,
          3651616,
          3497345,
          3464155,
          3420000,
          3354161,
          3273867,
          3254000,
          3200000,
          3150000,
          3140000,
          3101550,
          3086555,
          3000000,
          2906000,
          2900000,
          2873806,
          2841772,
          2835836,
          2811646,
          2800000,
          2700000,
          2684754,
          2650000,
          2624700,
          2606999,
          2549000,
          2460000,
          2443000,
          2432883,
          2400000,
          2394400,
          2370000,
          2361732,
          2361000,
          2320000,
          2301900,
          2286276,
          2280000,
          2259000,
          2234800,
          2229900,
          2210024,
          2200000,
          2100000,
          2070270,
          2030000,
          2000000
         ],
         "yaxis": "y"
        },
        {
         "marker": {
          "line": {
           "color": "DarkSlateGrey",
           "width": 2
          },
          "size": 12
         },
         "mode": "markers",
         "name": "train",
         "type": "scatter",
         "x": [
          8908081,
          9806538,
          8908081,
          1000,
          382258,
          3266126,
          8398748,
          2187526,
          705749,
          23390000,
          8918653,
          13942856,
          7990000,
          39057,
          12500123,
          6320000,
          2635000,
          21710000,
          705749,
          11895000,
          8908081,
          21710000,
          2187526,
          9468000,
          8908081,
          705749,
          2684567,
          860124,
          8398748,
          705749,
          5740000,
          13942856,
          8908081,
          9806538,
          6520266,
          13080500,
          12500123,
          8908081,
          21710000,
          13080500,
          7935000,
          2232374,
          8908081,
          3266126,
          5740000,
          4529500,
          11908400,
          5351935,
          3976322,
          23390000,
          2803894
         ],
         "y": [
          6239983,
          3354161,
          3254000,
          6882931,
          2361732,
          4425699,
          6479548,
          2370000,
          2000000,
          4824000,
          2811646,
          2460000,
          2624700,
          2320000,
          3101550,
          4169000,
          2361000,
          3870000,
          3200000,
          2400000,
          2906000,
          3891000,
          9600000,
          4150000,
          6098340,
          4074403,
          3832373,
          2100000,
          5000000,
          4200000,
          3420000,
          2873806,
          3932938,
          2286276,
          2606999,
          2234800,
          2835836,
          2841772,
          7390000,
          4257100,
          2280000,
          3464155,
          6011007,
          3497345,
          2900000,
          2432883,
          3826000,
          4956529,
          2200000,
          2549000,
          2650000
         ]
        },
        {
         "marker": {
          "line": {
           "color": "DarkSlateGrey",
           "width": 2
          },
          "size": 12
         },
         "mode": "markers",
         "name": "test",
         "type": "scatter",
         "x": [
          513210,
          2684567,
          7990000,
          23390000,
          9468000,
          13942856,
          8908081,
          4310000,
          10465994,
          705749,
          2187526,
          13245000,
          8918653,
          7044118,
          2187526,
          5351935,
          11050000,
          860124
         ],
         "y": [
          2210024,
          3000000,
          2301900,
          2070270,
          2443000,
          2684754,
          5424000,
          2229900,
          2030000,
          2800000,
          3273867,
          3150000,
          3086555,
          3140000,
          3651616,
          2394400,
          2259000,
          2700000
         ]
        },
        {
         "name": "prediction",
         "type": "scatter",
         "x": [
          1000,
          237252.52525252526,
          473505.0505050505,
          709757.5757575758,
          946010.101010101,
          1182262.6262626264,
          1418515.1515151516,
          1654767.6767676768,
          1891020.202020202,
          2127272.7272727275,
          2363525.2525252528,
          2599777.777777778,
          2836030.303030303,
          3072282.8282828284,
          3308535.3535353537,
          3544787.878787879,
          3781040.404040404,
          4017292.9292929294,
          4253545.454545455,
          4489797.97979798,
          4726050.5050505055,
          4962303.03030303,
          5198555.555555556,
          5434808.080808081,
          5671060.606060606,
          5907313.131313131,
          6143565.656565657,
          6379818.181818182,
          6616070.707070707,
          6852323.232323232,
          7088575.757575758,
          7324828.282828283,
          7561080.808080808,
          7797333.333333334,
          8033585.858585859,
          8269838.383838384,
          8506090.90909091,
          8742343.434343435,
          8978595.95959596,
          9214848.484848484,
          9451101.010101011,
          9687353.535353536,
          9923606.06060606,
          10159858.585858585,
          10396111.111111112,
          10632363.636363637,
          10868616.161616161,
          11104868.686868686,
          11341121.212121213,
          11577373.737373738,
          11813626.262626262,
          12049878.787878789,
          12286131.313131314,
          12522383.838383839,
          12758636.363636363,
          12994888.88888889,
          13231141.414141415,
          13467393.93939394,
          13703646.464646464,
          13939898.98989899,
          14176151.515151516,
          14412404.04040404,
          14648656.565656565,
          14884909.090909092,
          15121161.616161617,
          15357414.141414141,
          15593666.666666668,
          15829919.191919193,
          16066171.717171717,
          16302424.242424242,
          16538676.767676769,
          16774929.292929294,
          17011181.81818182,
          17247434.343434345,
          17483686.86868687,
          17719939.393939395,
          17956191.91919192,
          18192444.444444444,
          18428696.96969697,
          18664949.494949494,
          18901202.020202022,
          19137454.545454547,
          19373707.07070707,
          19609959.595959596,
          19846212.12121212,
          20082464.646464646,
          20318717.17171717,
          20554969.6969697,
          20791222.222222224,
          21027474.74747475,
          21263727.272727273,
          21499979.7979798,
          21736232.323232323,
          21972484.848484848,
          22208737.373737372,
          22444989.8989899,
          22681242.424242426,
          22917494.94949495,
          23153747.474747475,
          23390000
         ],
         "y": [
          3531466.789581754,
          3536465.8140334412,
          3541464.8384851287,
          3546463.862936816,
          3551462.887388504,
          3556461.9118401916,
          3561460.936291879,
          3566459.9607435665,
          3571458.9851952544,
          3576458.009646942,
          3581457.0340986294,
          3586456.058550317,
          3591455.0830020043,
          3596454.1074536922,
          3601453.1319053797,
          3606452.156357067,
          3611451.1808087546,
          3616450.2052604426,
          3621449.22971213,
          3626448.2541638175,
          3631447.278615505,
          3636446.303067193,
          3641445.3275188804,
          3646444.351970568,
          3651443.3764222553,
          3656442.4008739428,
          3661441.4253256307,
          3666440.449777318,
          3671439.4742290056,
          3676438.498680693,
          3681437.523132381,
          3686436.5475840685,
          3691435.572035756,
          3696434.5964874434,
          3701433.6209391314,
          3706432.645390819,
          3711431.6698425063,
          3716430.6942941938,
          3721429.7187458817,
          3726428.743197569,
          3731427.7676492566,
          3736426.792100944,
          3741425.8165526316,
          3746424.8410043195,
          3751423.865456007,
          3756422.8899076944,
          3761421.914359382,
          3766420.93881107,
          3771419.9632627573,
          3776418.9877144448,
          3781418.012166132,
          3786417.03661782,
          3791416.0610695076,
          3796415.085521195,
          3801414.1099728826,
          3806413.13442457,
          3811412.158876258,
          3816411.1833279454,
          3821410.207779633,
          3826409.2322313203,
          3831408.2566830083,
          3836407.2811346957,
          3841406.305586383,
          3846405.3300380707,
          3851404.3544897586,
          3856403.378941446,
          3861402.4033931335,
          3866401.427844821,
          3871400.4522965085,
          3876399.4767481964,
          3881398.501199884,
          3886397.5256515713,
          3891396.5501032593,
          3896395.5745549467,
          3901394.599006634,
          3906393.6234583217,
          3911392.647910009,
          3916391.672361697,
          3921390.6968133845,
          3926389.721265072,
          3931388.7457167595,
          3936387.7701684474,
          3941386.794620135,
          3946385.8190718223,
          3951384.84352351,
          3956383.8679751973,
          3961382.892426885,
          3966381.9168785727,
          3971380.94133026,
          3976379.9657819476,
          3981378.9902336355,
          3986378.014685323,
          3991377.0391370105,
          3996376.063588698,
          4001375.0880403854,
          4006374.1124920733,
          4011373.136943761,
          4016372.1613954483,
          4021371.185847136,
          4026370.2102988237
         ]
        }
       ],
       "layout": {
        "legend": {
         "tracegroupgap": 0
        },
        "margin": {
         "t": 60
        },
        "template": {
         "data": {
          "bar": [
           {
            "error_x": {
             "color": "#2a3f5f"
            },
            "error_y": {
             "color": "#2a3f5f"
            },
            "marker": {
             "line": {
              "color": "#E5ECF6",
              "width": 0.5
             }
            },
            "type": "bar"
           }
          ],
          "barpolar": [
           {
            "marker": {
             "line": {
              "color": "#E5ECF6",
              "width": 0.5
             }
            },
            "type": "barpolar"
           }
          ],
          "carpet": [
           {
            "aaxis": {
             "endlinecolor": "#2a3f5f",
             "gridcolor": "white",
             "linecolor": "white",
             "minorgridcolor": "white",
             "startlinecolor": "#2a3f5f"
            },
            "baxis": {
             "endlinecolor": "#2a3f5f",
             "gridcolor": "white",
             "linecolor": "white",
             "minorgridcolor": "white",
             "startlinecolor": "#2a3f5f"
            },
            "type": "carpet"
           }
          ],
          "choropleth": [
           {
            "colorbar": {
             "outlinewidth": 0,
             "ticks": ""
            },
            "type": "choropleth"
           }
          ],
          "contour": [
           {
            "colorbar": {
             "outlinewidth": 0,
             "ticks": ""
            },
            "colorscale": [
             [
              0,
              "#0d0887"
             ],
             [
              0.1111111111111111,
              "#46039f"
             ],
             [
              0.2222222222222222,
              "#7201a8"
             ],
             [
              0.3333333333333333,
              "#9c179e"
             ],
             [
              0.4444444444444444,
              "#bd3786"
             ],
             [
              0.5555555555555556,
              "#d8576b"
             ],
             [
              0.6666666666666666,
              "#ed7953"
             ],
             [
              0.7777777777777778,
              "#fb9f3a"
             ],
             [
              0.8888888888888888,
              "#fdca26"
             ],
             [
              1,
              "#f0f921"
             ]
            ],
            "type": "contour"
           }
          ],
          "contourcarpet": [
           {
            "colorbar": {
             "outlinewidth": 0,
             "ticks": ""
            },
            "type": "contourcarpet"
           }
          ],
          "heatmap": [
           {
            "colorbar": {
             "outlinewidth": 0,
             "ticks": ""
            },
            "colorscale": [
             [
              0,
              "#0d0887"
             ],
             [
              0.1111111111111111,
              "#46039f"
             ],
             [
              0.2222222222222222,
              "#7201a8"
             ],
             [
              0.3333333333333333,
              "#9c179e"
             ],
             [
              0.4444444444444444,
              "#bd3786"
             ],
             [
              0.5555555555555556,
              "#d8576b"
             ],
             [
              0.6666666666666666,
              "#ed7953"
             ],
             [
              0.7777777777777778,
              "#fb9f3a"
             ],
             [
              0.8888888888888888,
              "#fdca26"
             ],
             [
              1,
              "#f0f921"
             ]
            ],
            "type": "heatmap"
           }
          ],
          "heatmapgl": [
           {
            "colorbar": {
             "outlinewidth": 0,
             "ticks": ""
            },
            "colorscale": [
             [
              0,
              "#0d0887"
             ],
             [
              0.1111111111111111,
              "#46039f"
             ],
             [
              0.2222222222222222,
              "#7201a8"
             ],
             [
              0.3333333333333333,
              "#9c179e"
             ],
             [
              0.4444444444444444,
              "#bd3786"
             ],
             [
              0.5555555555555556,
              "#d8576b"
             ],
             [
              0.6666666666666666,
              "#ed7953"
             ],
             [
              0.7777777777777778,
              "#fb9f3a"
             ],
             [
              0.8888888888888888,
              "#fdca26"
             ],
             [
              1,
              "#f0f921"
             ]
            ],
            "type": "heatmapgl"
           }
          ],
          "histogram": [
           {
            "marker": {
             "colorbar": {
              "outlinewidth": 0,
              "ticks": ""
             }
            },
            "type": "histogram"
           }
          ],
          "histogram2d": [
           {
            "colorbar": {
             "outlinewidth": 0,
             "ticks": ""
            },
            "colorscale": [
             [
              0,
              "#0d0887"
             ],
             [
              0.1111111111111111,
              "#46039f"
             ],
             [
              0.2222222222222222,
              "#7201a8"
             ],
             [
              0.3333333333333333,
              "#9c179e"
             ],
             [
              0.4444444444444444,
              "#bd3786"
             ],
             [
              0.5555555555555556,
              "#d8576b"
             ],
             [
              0.6666666666666666,
              "#ed7953"
             ],
             [
              0.7777777777777778,
              "#fb9f3a"
             ],
             [
              0.8888888888888888,
              "#fdca26"
             ],
             [
              1,
              "#f0f921"
             ]
            ],
            "type": "histogram2d"
           }
          ],
          "histogram2dcontour": [
           {
            "colorbar": {
             "outlinewidth": 0,
             "ticks": ""
            },
            "colorscale": [
             [
              0,
              "#0d0887"
             ],
             [
              0.1111111111111111,
              "#46039f"
             ],
             [
              0.2222222222222222,
              "#7201a8"
             ],
             [
              0.3333333333333333,
              "#9c179e"
             ],
             [
              0.4444444444444444,
              "#bd3786"
             ],
             [
              0.5555555555555556,
              "#d8576b"
             ],
             [
              0.6666666666666666,
              "#ed7953"
             ],
             [
              0.7777777777777778,
              "#fb9f3a"
             ],
             [
              0.8888888888888888,
              "#fdca26"
             ],
             [
              1,
              "#f0f921"
             ]
            ],
            "type": "histogram2dcontour"
           }
          ],
          "mesh3d": [
           {
            "colorbar": {
             "outlinewidth": 0,
             "ticks": ""
            },
            "type": "mesh3d"
           }
          ],
          "parcoords": [
           {
            "line": {
             "colorbar": {
              "outlinewidth": 0,
              "ticks": ""
             }
            },
            "type": "parcoords"
           }
          ],
          "pie": [
           {
            "automargin": true,
            "type": "pie"
           }
          ],
          "scatter": [
           {
            "marker": {
             "colorbar": {
              "outlinewidth": 0,
              "ticks": ""
             }
            },
            "type": "scatter"
           }
          ],
          "scatter3d": [
           {
            "line": {
             "colorbar": {
              "outlinewidth": 0,
              "ticks": ""
             }
            },
            "marker": {
             "colorbar": {
              "outlinewidth": 0,
              "ticks": ""
             }
            },
            "type": "scatter3d"
           }
          ],
          "scattercarpet": [
           {
            "marker": {
             "colorbar": {
              "outlinewidth": 0,
              "ticks": ""
             }
            },
            "type": "scattercarpet"
           }
          ],
          "scattergeo": [
           {
            "marker": {
             "colorbar": {
              "outlinewidth": 0,
              "ticks": ""
             }
            },
            "type": "scattergeo"
           }
          ],
          "scattergl": [
           {
            "marker": {
             "colorbar": {
              "outlinewidth": 0,
              "ticks": ""
             }
            },
            "type": "scattergl"
           }
          ],
          "scattermapbox": [
           {
            "marker": {
             "colorbar": {
              "outlinewidth": 0,
              "ticks": ""
             }
            },
            "type": "scattermapbox"
           }
          ],
          "scatterpolar": [
           {
            "marker": {
             "colorbar": {
              "outlinewidth": 0,
              "ticks": ""
             }
            },
            "type": "scatterpolar"
           }
          ],
          "scatterpolargl": [
           {
            "marker": {
             "colorbar": {
              "outlinewidth": 0,
              "ticks": ""
             }
            },
            "type": "scatterpolargl"
           }
          ],
          "scatterternary": [
           {
            "marker": {
             "colorbar": {
              "outlinewidth": 0,
              "ticks": ""
             }
            },
            "type": "scatterternary"
           }
          ],
          "surface": [
           {
            "colorbar": {
             "outlinewidth": 0,
             "ticks": ""
            },
            "colorscale": [
             [
              0,
              "#0d0887"
             ],
             [
              0.1111111111111111,
              "#46039f"
             ],
             [
              0.2222222222222222,
              "#7201a8"
             ],
             [
              0.3333333333333333,
              "#9c179e"
             ],
             [
              0.4444444444444444,
              "#bd3786"
             ],
             [
              0.5555555555555556,
              "#d8576b"
             ],
             [
              0.6666666666666666,
              "#ed7953"
             ],
             [
              0.7777777777777778,
              "#fb9f3a"
             ],
             [
              0.8888888888888888,
              "#fdca26"
             ],
             [
              1,
              "#f0f921"
             ]
            ],
            "type": "surface"
           }
          ],
          "table": [
           {
            "cells": {
             "fill": {
              "color": "#EBF0F8"
             },
             "line": {
              "color": "white"
             }
            },
            "header": {
             "fill": {
              "color": "#C8D4E3"
             },
             "line": {
              "color": "white"
             }
            },
            "type": "table"
           }
          ]
         },
         "layout": {
          "annotationdefaults": {
           "arrowcolor": "#2a3f5f",
           "arrowhead": 0,
           "arrowwidth": 1
          },
          "coloraxis": {
           "colorbar": {
            "outlinewidth": 0,
            "ticks": ""
           }
          },
          "colorscale": {
           "diverging": [
            [
             0,
             "#8e0152"
            ],
            [
             0.1,
             "#c51b7d"
            ],
            [
             0.2,
             "#de77ae"
            ],
            [
             0.3,
             "#f1b6da"
            ],
            [
             0.4,
             "#fde0ef"
            ],
            [
             0.5,
             "#f7f7f7"
            ],
            [
             0.6,
             "#e6f5d0"
            ],
            [
             0.7,
             "#b8e186"
            ],
            [
             0.8,
             "#7fbc41"
            ],
            [
             0.9,
             "#4d9221"
            ],
            [
             1,
             "#276419"
            ]
           ],
           "sequential": [
            [
             0,
             "#0d0887"
            ],
            [
             0.1111111111111111,
             "#46039f"
            ],
            [
             0.2222222222222222,
             "#7201a8"
            ],
            [
             0.3333333333333333,
             "#9c179e"
            ],
            [
             0.4444444444444444,
             "#bd3786"
            ],
            [
             0.5555555555555556,
             "#d8576b"
            ],
            [
             0.6666666666666666,
             "#ed7953"
            ],
            [
             0.7777777777777778,
             "#fb9f3a"
            ],
            [
             0.8888888888888888,
             "#fdca26"
            ],
            [
             1,
             "#f0f921"
            ]
           ],
           "sequentialminus": [
            [
             0,
             "#0d0887"
            ],
            [
             0.1111111111111111,
             "#46039f"
            ],
            [
             0.2222222222222222,
             "#7201a8"
            ],
            [
             0.3333333333333333,
             "#9c179e"
            ],
            [
             0.4444444444444444,
             "#bd3786"
            ],
            [
             0.5555555555555556,
             "#d8576b"
            ],
            [
             0.6666666666666666,
             "#ed7953"
            ],
            [
             0.7777777777777778,
             "#fb9f3a"
            ],
            [
             0.8888888888888888,
             "#fdca26"
            ],
            [
             1,
             "#f0f921"
            ]
           ]
          },
          "colorway": [
           "#636efa",
           "#EF553B",
           "#00cc96",
           "#ab63fa",
           "#FFA15A",
           "#19d3f3",
           "#FF6692",
           "#B6E880",
           "#FF97FF",
           "#FECB52"
          ],
          "font": {
           "color": "#2a3f5f"
          },
          "geo": {
           "bgcolor": "white",
           "lakecolor": "white",
           "landcolor": "#E5ECF6",
           "showlakes": true,
           "showland": true,
           "subunitcolor": "white"
          },
          "hoverlabel": {
           "align": "left"
          },
          "hovermode": "closest",
          "mapbox": {
           "style": "light"
          },
          "paper_bgcolor": "white",
          "plot_bgcolor": "#E5ECF6",
          "polar": {
           "angularaxis": {
            "gridcolor": "white",
            "linecolor": "white",
            "ticks": ""
           },
           "bgcolor": "#E5ECF6",
           "radialaxis": {
            "gridcolor": "white",
            "linecolor": "white",
            "ticks": ""
           }
          },
          "scene": {
           "xaxis": {
            "backgroundcolor": "#E5ECF6",
            "gridcolor": "white",
            "gridwidth": 2,
            "linecolor": "white",
            "showbackground": true,
            "ticks": "",
            "zerolinecolor": "white"
           },
           "yaxis": {
            "backgroundcolor": "#E5ECF6",
            "gridcolor": "white",
            "gridwidth": 2,
            "linecolor": "white",
            "showbackground": true,
            "ticks": "",
            "zerolinecolor": "white"
           },
           "zaxis": {
            "backgroundcolor": "#E5ECF6",
            "gridcolor": "white",
            "gridwidth": 2,
            "linecolor": "white",
            "showbackground": true,
            "ticks": "",
            "zerolinecolor": "white"
           }
          },
          "shapedefaults": {
           "line": {
            "color": "#2a3f5f"
           }
          },
          "ternary": {
           "aaxis": {
            "gridcolor": "white",
            "linecolor": "white",
            "ticks": ""
           },
           "baxis": {
            "gridcolor": "white",
            "linecolor": "white",
            "ticks": ""
           },
           "bgcolor": "#E5ECF6",
           "caxis": {
            "gridcolor": "white",
            "linecolor": "white",
            "ticks": ""
           }
          },
          "title": {
           "x": 0.05
          },
          "xaxis": {
           "automargin": true,
           "gridcolor": "white",
           "linecolor": "white",
           "ticks": "",
           "title": {
            "standoff": 15
           },
           "zerolinecolor": "white",
           "zerolinewidth": 2
          },
          "yaxis": {
           "automargin": true,
           "gridcolor": "white",
           "linecolor": "white",
           "ticks": "",
           "title": {
            "standoff": 15
           },
           "zerolinecolor": "white",
           "zerolinewidth": 2
          }
         }
        },
        "xaxis": {
         "anchor": "y",
         "domain": [
          0,
          1
         ],
         "title": {
          "text": "City population"
         }
        },
        "yaxis": {
         "anchor": "x",
         "domain": [
          0,
          1
         ],
         "title": {
          "text": "Visitors per year"
         }
        }
       }
      },
      "text/html": [
       "<div>                            <div id=\"1799d001-7de9-4efc-870a-5efb10fa71f6\" class=\"plotly-graph-div\" style=\"height:525px; width:100%;\"></div>            <script type=\"text/javascript\">                require([\"plotly\"], function(Plotly) {                    window.PLOTLYENV=window.PLOTLYENV || {};                                    if (document.getElementById(\"1799d001-7de9-4efc-870a-5efb10fa71f6\")) {                    Plotly.newPlot(                        \"1799d001-7de9-4efc-870a-5efb10fa71f6\",                        [{\"hovertemplate\": \"City population=%{x}<br>Visitors per year=%{y}<extra></extra>\", \"legendgroup\": \"\", \"marker\": {\"color\": \"#636efa\", \"line\": {\"color\": \"DarkSlateGrey\", \"width\": 2}, \"size\": 12, \"symbol\": \"circle\"}, \"mode\": \"markers\", \"name\": \"\", \"orientation\": \"v\", \"showlegend\": false, \"type\": \"scatter\", \"x\": [2187526, 21710000, 1000, 8398748, 8908081, 8908081, 8908081, 8908081, 8398748, 5351935, 23390000, 3266126, 13080500, 705749, 6320000, 9468000, 705749, 8908081, 21710000, 21710000, 2684567, 11908400, 2187526, 3266126, 2232374, 5740000, 9806538, 2187526, 8908081, 705749, 13245000, 7044118, 12500123, 8918653, 2684567, 8908081, 5740000, 13942856, 8908081, 12500123, 8918653, 705749, 860124, 13942856, 2803894, 7990000, 6520266, 23390000, 13942856, 9468000, 4529500, 11895000, 5351935, 2187526, 382258, 2635000, 39057, 7990000, 9806538, 7935000, 11050000, 13080500, 4310000, 513210, 3976322, 860124, 23390000, 10465994, 705749], \"xaxis\": \"x\", \"y\": [9600000, 7390000, 6882931, 6479548, 6239983, 6098340, 6011007, 5424000, 5000000, 4956529, 4824000, 4425699, 4257100, 4200000, 4169000, 4150000, 4074403, 3932938, 3891000, 3870000, 3832373, 3826000, 3651616, 3497345, 3464155, 3420000, 3354161, 3273867, 3254000, 3200000, 3150000, 3140000, 3101550, 3086555, 3000000, 2906000, 2900000, 2873806, 2841772, 2835836, 2811646, 2800000, 2700000, 2684754, 2650000, 2624700, 2606999, 2549000, 2460000, 2443000, 2432883, 2400000, 2394400, 2370000, 2361732, 2361000, 2320000, 2301900, 2286276, 2280000, 2259000, 2234800, 2229900, 2210024, 2200000, 2100000, 2070270, 2030000, 2000000], \"yaxis\": \"y\"}, {\"marker\": {\"line\": {\"color\": \"DarkSlateGrey\", \"width\": 2}, \"size\": 12}, \"mode\": \"markers\", \"name\": \"train\", \"type\": \"scatter\", \"x\": [8908081, 9806538, 8908081, 1000, 382258, 3266126, 8398748, 2187526, 705749, 23390000, 8918653, 13942856, 7990000, 39057, 12500123, 6320000, 2635000, 21710000, 705749, 11895000, 8908081, 21710000, 2187526, 9468000, 8908081, 705749, 2684567, 860124, 8398748, 705749, 5740000, 13942856, 8908081, 9806538, 6520266, 13080500, 12500123, 8908081, 21710000, 13080500, 7935000, 2232374, 8908081, 3266126, 5740000, 4529500, 11908400, 5351935, 3976322, 23390000, 2803894], \"y\": [6239983, 3354161, 3254000, 6882931, 2361732, 4425699, 6479548, 2370000, 2000000, 4824000, 2811646, 2460000, 2624700, 2320000, 3101550, 4169000, 2361000, 3870000, 3200000, 2400000, 2906000, 3891000, 9600000, 4150000, 6098340, 4074403, 3832373, 2100000, 5000000, 4200000, 3420000, 2873806, 3932938, 2286276, 2606999, 2234800, 2835836, 2841772, 7390000, 4257100, 2280000, 3464155, 6011007, 3497345, 2900000, 2432883, 3826000, 4956529, 2200000, 2549000, 2650000]}, {\"marker\": {\"line\": {\"color\": \"DarkSlateGrey\", \"width\": 2}, \"size\": 12}, \"mode\": \"markers\", \"name\": \"test\", \"type\": \"scatter\", \"x\": [513210, 2684567, 7990000, 23390000, 9468000, 13942856, 8908081, 4310000, 10465994, 705749, 2187526, 13245000, 8918653, 7044118, 2187526, 5351935, 11050000, 860124], \"y\": [2210024, 3000000, 2301900, 2070270, 2443000, 2684754, 5424000, 2229900, 2030000, 2800000, 3273867, 3150000, 3086555, 3140000, 3651616, 2394400, 2259000, 2700000]}, {\"name\": \"prediction\", \"type\": \"scatter\", \"x\": [1000.0, 237252.52525252526, 473505.0505050505, 709757.5757575758, 946010.101010101, 1182262.6262626264, 1418515.1515151516, 1654767.6767676768, 1891020.202020202, 2127272.7272727275, 2363525.2525252528, 2599777.777777778, 2836030.303030303, 3072282.8282828284, 3308535.3535353537, 3544787.878787879, 3781040.404040404, 4017292.9292929294, 4253545.454545455, 4489797.97979798, 4726050.5050505055, 4962303.03030303, 5198555.555555556, 5434808.080808081, 5671060.606060606, 5907313.131313131, 6143565.656565657, 6379818.181818182, 6616070.707070707, 6852323.232323232, 7088575.757575758, 7324828.282828283, 7561080.808080808, 7797333.333333334, 8033585.858585859, 8269838.383838384, 8506090.90909091, 8742343.434343435, 8978595.95959596, 9214848.484848484, 9451101.010101011, 9687353.535353536, 9923606.06060606, 10159858.585858585, 10396111.111111112, 10632363.636363637, 10868616.161616161, 11104868.686868686, 11341121.212121213, 11577373.737373738, 11813626.262626262, 12049878.787878789, 12286131.313131314, 12522383.838383839, 12758636.363636363, 12994888.88888889, 13231141.414141415, 13467393.93939394, 13703646.464646464, 13939898.98989899, 14176151.515151516, 14412404.04040404, 14648656.565656565, 14884909.090909092, 15121161.616161617, 15357414.141414141, 15593666.666666668, 15829919.191919193, 16066171.717171717, 16302424.242424242, 16538676.767676769, 16774929.292929294, 17011181.81818182, 17247434.343434345, 17483686.86868687, 17719939.393939395, 17956191.91919192, 18192444.444444444, 18428696.96969697, 18664949.494949494, 18901202.020202022, 19137454.545454547, 19373707.07070707, 19609959.595959596, 19846212.12121212, 20082464.646464646, 20318717.17171717, 20554969.6969697, 20791222.222222224, 21027474.74747475, 21263727.272727273, 21499979.7979798, 21736232.323232323, 21972484.848484848, 22208737.373737372, 22444989.8989899, 22681242.424242426, 22917494.94949495, 23153747.474747475, 23390000.0], \"y\": [3531466.789581754, 3536465.8140334412, 3541464.8384851287, 3546463.862936816, 3551462.887388504, 3556461.9118401916, 3561460.936291879, 3566459.9607435665, 3571458.9851952544, 3576458.009646942, 3581457.0340986294, 3586456.058550317, 3591455.0830020043, 3596454.1074536922, 3601453.1319053797, 3606452.156357067, 3611451.1808087546, 3616450.2052604426, 3621449.22971213, 3626448.2541638175, 3631447.278615505, 3636446.303067193, 3641445.3275188804, 3646444.351970568, 3651443.3764222553, 3656442.4008739428, 3661441.4253256307, 3666440.449777318, 3671439.4742290056, 3676438.498680693, 3681437.523132381, 3686436.5475840685, 3691435.572035756, 3696434.5964874434, 3701433.6209391314, 3706432.645390819, 3711431.6698425063, 3716430.6942941938, 3721429.7187458817, 3726428.743197569, 3731427.7676492566, 3736426.792100944, 3741425.8165526316, 3746424.8410043195, 3751423.865456007, 3756422.8899076944, 3761421.914359382, 3766420.93881107, 3771419.9632627573, 3776418.9877144448, 3781418.012166132, 3786417.03661782, 3791416.0610695076, 3796415.085521195, 3801414.1099728826, 3806413.13442457, 3811412.158876258, 3816411.1833279454, 3821410.207779633, 3826409.2322313203, 3831408.2566830083, 3836407.2811346957, 3841406.305586383, 3846405.3300380707, 3851404.3544897586, 3856403.378941446, 3861402.4033931335, 3866401.427844821, 3871400.4522965085, 3876399.4767481964, 3881398.501199884, 3886397.5256515713, 3891396.5501032593, 3896395.5745549467, 3901394.599006634, 3906393.6234583217, 3911392.647910009, 3916391.672361697, 3921390.6968133845, 3926389.721265072, 3931388.7457167595, 3936387.7701684474, 3941386.794620135, 3946385.8190718223, 3951384.84352351, 3956383.8679751973, 3961382.892426885, 3966381.9168785727, 3971380.94133026, 3976379.9657819476, 3981378.9902336355, 3986378.014685323, 3991377.0391370105, 3996376.063588698, 4001375.0880403854, 4006374.1124920733, 4011373.136943761, 4016372.1613954483, 4021371.185847136, 4026370.2102988237]}],                        {\"legend\": {\"tracegroupgap\": 0}, \"margin\": {\"t\": 60}, \"template\": {\"data\": {\"bar\": [{\"error_x\": {\"color\": \"#2a3f5f\"}, \"error_y\": {\"color\": \"#2a3f5f\"}, \"marker\": {\"line\": {\"color\": \"#E5ECF6\", \"width\": 0.5}}, \"type\": \"bar\"}], \"barpolar\": [{\"marker\": {\"line\": {\"color\": \"#E5ECF6\", \"width\": 0.5}}, \"type\": \"barpolar\"}], \"carpet\": [{\"aaxis\": {\"endlinecolor\": \"#2a3f5f\", \"gridcolor\": \"white\", \"linecolor\": \"white\", \"minorgridcolor\": \"white\", \"startlinecolor\": \"#2a3f5f\"}, \"baxis\": {\"endlinecolor\": \"#2a3f5f\", \"gridcolor\": \"white\", \"linecolor\": \"white\", \"minorgridcolor\": \"white\", \"startlinecolor\": \"#2a3f5f\"}, \"type\": \"carpet\"}], \"choropleth\": [{\"colorbar\": {\"outlinewidth\": 0, \"ticks\": \"\"}, \"type\": \"choropleth\"}], \"contour\": [{\"colorbar\": {\"outlinewidth\": 0, \"ticks\": \"\"}, \"colorscale\": [[0.0, \"#0d0887\"], [0.1111111111111111, \"#46039f\"], [0.2222222222222222, \"#7201a8\"], [0.3333333333333333, \"#9c179e\"], [0.4444444444444444, \"#bd3786\"], [0.5555555555555556, \"#d8576b\"], [0.6666666666666666, \"#ed7953\"], [0.7777777777777778, \"#fb9f3a\"], [0.8888888888888888, \"#fdca26\"], [1.0, \"#f0f921\"]], \"type\": \"contour\"}], \"contourcarpet\": [{\"colorbar\": {\"outlinewidth\": 0, \"ticks\": \"\"}, \"type\": \"contourcarpet\"}], \"heatmap\": [{\"colorbar\": {\"outlinewidth\": 0, \"ticks\": \"\"}, \"colorscale\": [[0.0, \"#0d0887\"], [0.1111111111111111, \"#46039f\"], [0.2222222222222222, \"#7201a8\"], [0.3333333333333333, \"#9c179e\"], [0.4444444444444444, \"#bd3786\"], [0.5555555555555556, \"#d8576b\"], [0.6666666666666666, \"#ed7953\"], [0.7777777777777778, \"#fb9f3a\"], [0.8888888888888888, \"#fdca26\"], [1.0, \"#f0f921\"]], \"type\": \"heatmap\"}], \"heatmapgl\": [{\"colorbar\": {\"outlinewidth\": 0, \"ticks\": \"\"}, \"colorscale\": [[0.0, \"#0d0887\"], [0.1111111111111111, \"#46039f\"], [0.2222222222222222, \"#7201a8\"], [0.3333333333333333, \"#9c179e\"], [0.4444444444444444, \"#bd3786\"], [0.5555555555555556, \"#d8576b\"], [0.6666666666666666, \"#ed7953\"], [0.7777777777777778, \"#fb9f3a\"], [0.8888888888888888, \"#fdca26\"], [1.0, \"#f0f921\"]], \"type\": \"heatmapgl\"}], \"histogram\": [{\"marker\": {\"colorbar\": {\"outlinewidth\": 0, \"ticks\": \"\"}}, \"type\": \"histogram\"}], \"histogram2d\": [{\"colorbar\": {\"outlinewidth\": 0, \"ticks\": \"\"}, \"colorscale\": [[0.0, \"#0d0887\"], [0.1111111111111111, \"#46039f\"], [0.2222222222222222, \"#7201a8\"], [0.3333333333333333, \"#9c179e\"], [0.4444444444444444, \"#bd3786\"], [0.5555555555555556, \"#d8576b\"], [0.6666666666666666, \"#ed7953\"], [0.7777777777777778, \"#fb9f3a\"], [0.8888888888888888, \"#fdca26\"], [1.0, \"#f0f921\"]], \"type\": \"histogram2d\"}], \"histogram2dcontour\": [{\"colorbar\": {\"outlinewidth\": 0, \"ticks\": \"\"}, \"colorscale\": [[0.0, \"#0d0887\"], [0.1111111111111111, \"#46039f\"], [0.2222222222222222, \"#7201a8\"], [0.3333333333333333, \"#9c179e\"], [0.4444444444444444, \"#bd3786\"], [0.5555555555555556, \"#d8576b\"], [0.6666666666666666, \"#ed7953\"], [0.7777777777777778, \"#fb9f3a\"], [0.8888888888888888, \"#fdca26\"], [1.0, \"#f0f921\"]], \"type\": \"histogram2dcontour\"}], \"mesh3d\": [{\"colorbar\": {\"outlinewidth\": 0, \"ticks\": \"\"}, \"type\": \"mesh3d\"}], \"parcoords\": [{\"line\": {\"colorbar\": {\"outlinewidth\": 0, \"ticks\": \"\"}}, \"type\": \"parcoords\"}], \"pie\": [{\"automargin\": true, \"type\": \"pie\"}], \"scatter\": [{\"marker\": {\"colorbar\": {\"outlinewidth\": 0, \"ticks\": \"\"}}, \"type\": \"scatter\"}], \"scatter3d\": [{\"line\": {\"colorbar\": {\"outlinewidth\": 0, \"ticks\": \"\"}}, \"marker\": {\"colorbar\": {\"outlinewidth\": 0, \"ticks\": \"\"}}, \"type\": \"scatter3d\"}], \"scattercarpet\": [{\"marker\": {\"colorbar\": {\"outlinewidth\": 0, \"ticks\": \"\"}}, \"type\": \"scattercarpet\"}], \"scattergeo\": [{\"marker\": {\"colorbar\": {\"outlinewidth\": 0, \"ticks\": \"\"}}, \"type\": \"scattergeo\"}], \"scattergl\": [{\"marker\": {\"colorbar\": {\"outlinewidth\": 0, \"ticks\": \"\"}}, \"type\": \"scattergl\"}], \"scattermapbox\": [{\"marker\": {\"colorbar\": {\"outlinewidth\": 0, \"ticks\": \"\"}}, \"type\": \"scattermapbox\"}], \"scatterpolar\": [{\"marker\": {\"colorbar\": {\"outlinewidth\": 0, \"ticks\": \"\"}}, \"type\": \"scatterpolar\"}], \"scatterpolargl\": [{\"marker\": {\"colorbar\": {\"outlinewidth\": 0, \"ticks\": \"\"}}, \"type\": \"scatterpolargl\"}], \"scatterternary\": [{\"marker\": {\"colorbar\": {\"outlinewidth\": 0, \"ticks\": \"\"}}, \"type\": \"scatterternary\"}], \"surface\": [{\"colorbar\": {\"outlinewidth\": 0, \"ticks\": \"\"}, \"colorscale\": [[0.0, \"#0d0887\"], [0.1111111111111111, \"#46039f\"], [0.2222222222222222, \"#7201a8\"], [0.3333333333333333, \"#9c179e\"], [0.4444444444444444, \"#bd3786\"], [0.5555555555555556, \"#d8576b\"], [0.6666666666666666, \"#ed7953\"], [0.7777777777777778, \"#fb9f3a\"], [0.8888888888888888, \"#fdca26\"], [1.0, \"#f0f921\"]], \"type\": \"surface\"}], \"table\": [{\"cells\": {\"fill\": {\"color\": \"#EBF0F8\"}, \"line\": {\"color\": \"white\"}}, \"header\": {\"fill\": {\"color\": \"#C8D4E3\"}, \"line\": {\"color\": \"white\"}}, \"type\": \"table\"}]}, \"layout\": {\"annotationdefaults\": {\"arrowcolor\": \"#2a3f5f\", \"arrowhead\": 0, \"arrowwidth\": 1}, \"coloraxis\": {\"colorbar\": {\"outlinewidth\": 0, \"ticks\": \"\"}}, \"colorscale\": {\"diverging\": [[0, \"#8e0152\"], [0.1, \"#c51b7d\"], [0.2, \"#de77ae\"], [0.3, \"#f1b6da\"], [0.4, \"#fde0ef\"], [0.5, \"#f7f7f7\"], [0.6, \"#e6f5d0\"], [0.7, \"#b8e186\"], [0.8, \"#7fbc41\"], [0.9, \"#4d9221\"], [1, \"#276419\"]], \"sequential\": [[0.0, \"#0d0887\"], [0.1111111111111111, \"#46039f\"], [0.2222222222222222, \"#7201a8\"], [0.3333333333333333, \"#9c179e\"], [0.4444444444444444, \"#bd3786\"], [0.5555555555555556, \"#d8576b\"], [0.6666666666666666, \"#ed7953\"], [0.7777777777777778, \"#fb9f3a\"], [0.8888888888888888, \"#fdca26\"], [1.0, \"#f0f921\"]], \"sequentialminus\": [[0.0, \"#0d0887\"], [0.1111111111111111, \"#46039f\"], [0.2222222222222222, \"#7201a8\"], [0.3333333333333333, \"#9c179e\"], [0.4444444444444444, \"#bd3786\"], [0.5555555555555556, \"#d8576b\"], [0.6666666666666666, \"#ed7953\"], [0.7777777777777778, \"#fb9f3a\"], [0.8888888888888888, \"#fdca26\"], [1.0, \"#f0f921\"]]}, \"colorway\": [\"#636efa\", \"#EF553B\", \"#00cc96\", \"#ab63fa\", \"#FFA15A\", \"#19d3f3\", \"#FF6692\", \"#B6E880\", \"#FF97FF\", \"#FECB52\"], \"font\": {\"color\": \"#2a3f5f\"}, \"geo\": {\"bgcolor\": \"white\", \"lakecolor\": \"white\", \"landcolor\": \"#E5ECF6\", \"showlakes\": true, \"showland\": true, \"subunitcolor\": \"white\"}, \"hoverlabel\": {\"align\": \"left\"}, \"hovermode\": \"closest\", \"mapbox\": {\"style\": \"light\"}, \"paper_bgcolor\": \"white\", \"plot_bgcolor\": \"#E5ECF6\", \"polar\": {\"angularaxis\": {\"gridcolor\": \"white\", \"linecolor\": \"white\", \"ticks\": \"\"}, \"bgcolor\": \"#E5ECF6\", \"radialaxis\": {\"gridcolor\": \"white\", \"linecolor\": \"white\", \"ticks\": \"\"}}, \"scene\": {\"xaxis\": {\"backgroundcolor\": \"#E5ECF6\", \"gridcolor\": \"white\", \"gridwidth\": 2, \"linecolor\": \"white\", \"showbackground\": true, \"ticks\": \"\", \"zerolinecolor\": \"white\"}, \"yaxis\": {\"backgroundcolor\": \"#E5ECF6\", \"gridcolor\": \"white\", \"gridwidth\": 2, \"linecolor\": \"white\", \"showbackground\": true, \"ticks\": \"\", \"zerolinecolor\": \"white\"}, \"zaxis\": {\"backgroundcolor\": \"#E5ECF6\", \"gridcolor\": \"white\", \"gridwidth\": 2, \"linecolor\": \"white\", \"showbackground\": true, \"ticks\": \"\", \"zerolinecolor\": \"white\"}}, \"shapedefaults\": {\"line\": {\"color\": \"#2a3f5f\"}}, \"ternary\": {\"aaxis\": {\"gridcolor\": \"white\", \"linecolor\": \"white\", \"ticks\": \"\"}, \"baxis\": {\"gridcolor\": \"white\", \"linecolor\": \"white\", \"ticks\": \"\"}, \"bgcolor\": \"#E5ECF6\", \"caxis\": {\"gridcolor\": \"white\", \"linecolor\": \"white\", \"ticks\": \"\"}}, \"title\": {\"x\": 0.05}, \"xaxis\": {\"automargin\": true, \"gridcolor\": \"white\", \"linecolor\": \"white\", \"ticks\": \"\", \"title\": {\"standoff\": 15}, \"zerolinecolor\": \"white\", \"zerolinewidth\": 2}, \"yaxis\": {\"automargin\": true, \"gridcolor\": \"white\", \"linecolor\": \"white\", \"ticks\": \"\", \"title\": {\"standoff\": 15}, \"zerolinecolor\": \"white\", \"zerolinewidth\": 2}}}, \"xaxis\": {\"anchor\": \"y\", \"domain\": [0.0, 1.0], \"title\": {\"text\": \"City population\"}}, \"yaxis\": {\"anchor\": \"x\", \"domain\": [0.0, 1.0], \"title\": {\"text\": \"Visitors per year\"}}},                        {\"responsive\": true}                    ).then(function(){\n",
       "                            \n",
       "var gd = document.getElementById('1799d001-7de9-4efc-870a-5efb10fa71f6');\n",
       "var x = new MutationObserver(function (mutations, observer) {{\n",
       "        var display = window.getComputedStyle(gd).display;\n",
       "        if (!display || display === 'none') {{\n",
       "            console.log([gd, 'removed!']);\n",
       "            Plotly.purge(gd);\n",
       "            observer.disconnect();\n",
       "        }}\n",
       "}});\n",
       "\n",
       "// Listen for the removal of the full notebook cells\n",
       "var notebookContainer = gd.closest('#notebook-container');\n",
       "if (notebookContainer) {{\n",
       "    x.observe(notebookContainer, {childList: true});\n",
       "}}\n",
       "\n",
       "// Listen for the clearing of the current output cell\n",
       "var outputEl = gd.closest('.output');\n",
       "if (outputEl) {{\n",
       "    x.observe(outputEl, {childList: true});\n",
       "}}\n",
       "\n",
       "                        })                };                });            </script>        </div>"
      ]
     },
     "metadata": {},
     "output_type": "display_data"
    }
   ],
   "source": [
    "import plotly.express as px\n",
    "import plotly.graph_objects as go\n",
    "\n",
    "fig = px.scatter(df, y='Visitors per year', x='City population')\n",
    "\n",
    "fig.add_traces(go.Scatter(x=X_train.squeeze(), y=y_train, name='train', mode='markers'))\n",
    "fig.add_traces(go.Scatter(x=X_test.squeeze(), y=y_test, name='test', mode='markers'))\n",
    "fig.add_traces(go.Scatter(x=x_range, y=y_range, name='prediction'))\n",
    "\n",
    "fig.update_traces(marker=dict(size=12, line=dict(width=2, color='DarkSlateGrey')), selector=dict(mode='markers'))\n",
    "\n",
    "fig.show()"
   ]
  },
  {
   "cell_type": "markdown",
   "metadata": {},
   "source": [
    "### Looking for better features\n",
    "\n",
    "What could be better way to predict the number of the visitors?\n",
    "Let's observe another feature - number of different languages for which a page exists for given museum.\n",
    "\n",
    "We will draw the complete dataset with museums grouped by continent.\n",
    "\n",
    "We can see that the predictors show some similar tendency, but still are quite inaccurate.\n",
    "\n",
    "Observe different precision of the linear models for Asia/Europe and North America. "
   ]
  },
  {
   "cell_type": "code",
   "execution_count": 54,
   "metadata": {},
   "outputs": [
    {
     "data": {
      "application/vnd.plotly.v1+json": {
       "config": {
        "plotlyServerURL": "https://plot.ly"
       },
       "data": [
        {
         "customdata": [
          [
           "Louvre",
           "Paris"
          ],
          [
           "Vatican Museums",
           "Vatican City"
          ],
          [
           "British Museum",
           "London"
          ],
          [
           "Tate Modern",
           "London"
          ],
          [
           "National Gallery",
           "London"
          ],
          [
           "Natural History Museum",
           "London"
          ],
          [
           "State Hermitage Museum",
           "Saint Petersburg"
          ],
          [
           "Museo Reina Sofía",
           "Madrid"
          ],
          [
           "Victoria and Albert Museum",
           "London"
          ],
          [
           "Musée d'Orsay",
           "Paris"
          ],
          [
           "Museo del Prado",
           "Madrid"
          ],
          [
           "Centre Pompidou",
           "Paris"
          ],
          [
           "London Science Museum",
           "London"
          ],
          [
           "Moscow Kremlin Museums",
           "Moscow"
          ],
          [
           "Royal Museums Greenwich",
           "London"
          ],
          [
           "Somerset House",
           "London"
          ],
          [
           "Tretyakov Gallery",
           "Moscow"
          ],
          [
           "Russian Museum",
           "Saint Petersburg"
          ],
          [
           "Cité des Sciences et de l'Industrie",
           "Paris"
          ],
          [
           "Galleria degli Uffizi",
           "Florence"
          ],
          [
           "Auschwitz-Birkenau State Museum",
           "Oświęcim"
          ],
          [
           "National Museum of Scotland",
           "Edinburgh"
          ]
         ],
         "hovertemplate": "Continent=Europe<br>Wiki languages count=%{x}<br>Visitors per year=%{y}<br>Museum=%{customdata[0]}<br>City=%{customdata[1]}<extra></extra>",
         "legendgroup": "Europe",
         "marker": {
          "color": "#636efa",
          "line": {
           "color": "DarkSlateGrey",
           "width": 2
          },
          "size": 12,
          "symbol": "circle"
         },
         "mode": "markers",
         "name": "Europe",
         "orientation": "v",
         "showlegend": true,
         "type": "scatter",
         "x": [
          152,
          56,
          92,
          53,
          64,
          50,
          75,
          42,
          54,
          122,
          71,
          57,
          39,
          6,
          4,
          27,
          54,
          44,
          21,
          67,
          15,
          24
         ],
         "xaxis": "x",
         "y": [
          9600000,
          6882931,
          6239983,
          6098340,
          6011007,
          5424000,
          4956529,
          4425699,
          3932938,
          3651616,
          3497345,
          3273867,
          3254000,
          3101550,
          2906000,
          2841772,
          2835836,
          2394400,
          2370000,
          2361732,
          2320000,
          2210024
         ],
         "yaxis": "y"
        },
        {
         "hovertemplate": "<b>OLS trendline</b><br>Visitors per year = 35879.4 * Wiki languages count + 2.17859e+06<br>R<sup>2</sup>=0.443638<br><br>Continent=Europe<br>Wiki languages count=%{x}<br>Visitors per year=%{y} <b>(trend)</b><extra></extra>",
         "legendgroup": "Europe",
         "marker": {
          "color": "#636efa",
          "symbol": "circle"
         },
         "mode": "lines",
         "name": "Europe",
         "showlegend": false,
         "type": "scatter",
         "x": [
          4,
          6,
          15,
          21,
          24,
          27,
          39,
          42,
          44,
          50,
          53,
          54,
          54,
          56,
          57,
          64,
          67,
          71,
          75,
          92,
          122,
          152
         ],
         "xaxis": "x",
         "y": [
          2322109.121572436,
          2393867.8287938824,
          2716782.011290393,
          2932058.1329547325,
          3039696.193786903,
          3147334.254619073,
          3577886.4979477534,
          3685524.5587799232,
          3757283.26600137,
          3972559.3876657104,
          4080197.4484978803,
          4116076.8021086035,
          4116076.8021086035,
          4187835.50933005,
          4223714.862940773,
          4474870.338215837,
          4582508.399048008,
          4726025.813490901,
          4869543.227933794,
          5479492.239316091,
          6555872.847637791,
          7632253.455959493
         ],
         "yaxis": "y"
        },
        {
         "customdata": [
          [
           "National Museum of China",
           "Beijing"
          ],
          [
           "Shanghai Science and Technology Museum",
           "Shanghai"
          ],
          [
           "Guangdong Museum of Revolutionary History",
           "Guangzhou"
          ],
          [
           "Nanjing Museum",
           "Nanjing"
          ],
          [
           "Zhejiang Museum",
           "Hangzhou"
          ],
          [
           "China Science and Technology Museum",
           "Beijing"
          ],
          [
           "Military Museum of the Chinese People's Revolution",
           "Beijing"
          ],
          [
           "National Palace Museum",
           "Taipei"
          ],
          [
           "Shenzhen Museum",
           "Shenzhen"
          ],
          [
           "Mevlana Museum",
           "Konya"
          ],
          [
           "Xi'an Museum ",
           "Xi'an"
          ],
          [
           "National Museum of Korea",
           "Seoul"
          ],
          [
           "Tianjin Natural History Museum",
           "Tianjin"
          ],
          [
           "Hunan Museum",
           "Changsha"
          ],
          [
           "National Taiwan Science Education Center",
           "Taipei"
          ],
          [
           "Shaanxi History Museum",
           "Xi'an"
          ],
          [
           "Tokyo Metropolitan Art Museum",
           "Tokyo"
          ],
          [
           "Tokyo National Museum",
           "Tokyo"
          ],
          [
           "National Museum of Natural Science",
           "Taichung"
          ],
          [
           "Chongqing Museum of Natural History",
           "Chongqing"
          ],
          [
           "Shanghai Natural History Museum",
           "Shanghai"
          ],
          [
           "National Museum of Nature and Science",
           "Tokyo"
          ],
          [
           "Zhejiang Museum of Natural History",
           "Hangzhou"
          ],
          [
           "Hubei Provincial Museum",
           "Wuhan"
          ],
          [
           "Inner Mongolia Museum",
           "Hohhot"
          ],
          [
           "Three Gorges Museum",
           "Chongqing"
          ],
          [
           "National Folk Museum of Korea",
           "Seoul"
          ],
          [
           "Liaoning Provincial Museum",
           "Shenyang"
          ],
          [
           "Chengdu Museum ",
           "Chengdu"
          ],
          [
           "Guangdong Museum",
           "Guangzhou"
          ],
          [
           "Wenzhou Museum ",
           "Wenzhou"
          ],
          [
           "Shanghai Museum",
           "Shanghai"
          ],
          [
           "Suzhou Museum",
           "Suzhou"
          ]
         ],
         "hovertemplate": "Continent=Asia<br>Wiki languages count=%{x}<br>Visitors per year=%{y}<br>Museum=%{customdata[0]}<br>City=%{customdata[1]}<extra></extra>",
         "legendgroup": "Asia",
         "marker": {
          "color": "#EF553B",
          "line": {
           "color": "DarkSlateGrey",
           "width": 2
          },
          "size": 12,
          "symbol": "circle"
         },
         "mode": "markers",
         "name": "Asia",
         "orientation": "v",
         "showlegend": true,
         "type": "scatter",
         "x": [
          30,
          9,
          5,
          18,
          8,
          6,
          12,
          37,
          4,
          15,
          0,
          31,
          4,
          10,
          4,
          12,
          13,
          45,
          7,
          5,
          9,
          22,
          7,
          9,
          8,
          7,
          18,
          8,
          0,
          8,
          0,
          28,
          9
         ],
         "xaxis": "x",
         "y": [
          7390000,
          4824000,
          4257100,
          4169000,
          4150000,
          3891000,
          3870000,
          3832373,
          3826000,
          3464155,
          3420000,
          3354161,
          3150000,
          3140000,
          3000000,
          2900000,
          2873806,
          2684754,
          2650000,
          2624700,
          2549000,
          2460000,
          2443000,
          2400000,
          2361000,
          2301900,
          2286276,
          2280000,
          2259000,
          2234800,
          2229900,
          2070270,
          2030000
         ],
         "yaxis": "y"
        },
        {
         "hovertemplate": "<b>OLS trendline</b><br>Visitors per year = 22359.2 * Wiki languages count + 2.85617e+06<br>R<sup>2</sup>=0.051234<br><br>Continent=Asia<br>Wiki languages count=%{x}<br>Visitors per year=%{y} <b>(trend)</b><extra></extra>",
         "legendgroup": "Asia",
         "marker": {
          "color": "#EF553B",
          "symbol": "circle"
         },
         "mode": "lines",
         "name": "Asia",
         "showlegend": false,
         "type": "scatter",
         "x": [
          0,
          0,
          0,
          4,
          4,
          4,
          5,
          5,
          6,
          7,
          7,
          7,
          8,
          8,
          8,
          8,
          9,
          9,
          9,
          9,
          10,
          12,
          12,
          13,
          15,
          18,
          18,
          22,
          28,
          30,
          31,
          37,
          45
         ],
         "xaxis": "x",
         "y": [
          2856170.8990980545,
          2856170.8990980545,
          2856170.8990980545,
          2945607.7160565266,
          2945607.7160565266,
          2945607.7160565266,
          2967966.9202961447,
          2967966.9202961447,
          2990326.1245357627,
          3012685.3287753807,
          3012685.3287753807,
          3012685.3287753807,
          3035044.533014999,
          3035044.533014999,
          3035044.533014999,
          3035044.533014999,
          3057403.7372546173,
          3057403.7372546173,
          3057403.7372546173,
          3057403.7372546173,
          3079762.9414942353,
          3124481.3499734714,
          3124481.3499734714,
          3146840.5542130894,
          3191558.9626923255,
          3258636.5754111796,
          3258636.5754111796,
          3348073.3923696517,
          3482228.6178073604,
          3526947.0262865964,
          3549306.2305262145,
          3683461.4559639227,
          3862335.0898808674
         ],
         "yaxis": "y"
        },
        {
         "customdata": [
          [
           "Metropolitan Museum of Art",
           "New York City"
          ],
          [
           "American Museum of Natural History",
           "New York City"
          ],
          [
           "National Museum of Natural History",
           "Washington, D.C."
          ],
          [
           "National Gallery of Art",
           "Washington, D.C."
          ],
          [
           "National Air and Space Museum",
           "Washington, D.C."
          ],
          [
           "National Museum of Anthropology",
           "Mexico City"
          ],
          [
           "National Museum of History",
           "Mexico City"
          ],
          [
           "National Museum of American History",
           "Washington, D.C."
          ],
          [
           "California Science Center",
           "Los Angeles"
          ],
          [
           "National Museum of African American History and Culture",
           "Washington, D.C."
          ]
         ],
         "hovertemplate": "Continent=North America<br>Wiki languages count=%{x}<br>Visitors per year=%{y}<br>Museum=%{customdata[0]}<br>City=%{customdata[1]}<extra></extra>",
         "legendgroup": "North America",
         "marker": {
          "color": "#00cc96",
          "line": {
           "color": "DarkSlateGrey",
           "width": 2
          },
          "size": 12,
          "symbol": "circle"
         },
         "mode": "markers",
         "name": "North America",
         "orientation": "v",
         "showlegend": true,
         "type": "scatter",
         "x": [
          75,
          48,
          37,
          49,
          32,
          35,
          4,
          24,
          7,
          11
         ],
         "xaxis": "x",
         "y": [
          6479548,
          5000000,
          4200000,
          4074403,
          3200000,
          3086555,
          2811646,
          2800000,
          2200000,
          2000000
         ],
         "yaxis": "y"
        },
        {
         "hovertemplate": "<b>OLS trendline</b><br>Visitors per year = 58238.6 * Wiki languages count + 1.70993e+06<br>R<sup>2</sup>=0.864185<br><br>Continent=North America<br>Wiki languages count=%{x}<br>Visitors per year=%{y} <b>(trend)</b><extra></extra>",
         "legendgroup": "North America",
         "marker": {
          "color": "#00cc96",
          "symbol": "circle"
         },
         "mode": "lines",
         "name": "North America",
         "showlegend": false,
         "type": "scatter",
         "x": [
          4,
          7,
          11,
          24,
          32,
          35,
          37,
          48,
          49,
          75
         ],
         "xaxis": "x",
         "y": [
          1942887.6163626309,
          2117603.316749585,
          2350557.5839321907,
          3107658.952275658,
          3573567.486640869,
          3748283.187027823,
          3864760.320619126,
          4505384.555371291,
          4563623.122166943,
          6077825.858853878
         ],
         "yaxis": "y"
        },
        {
         "customdata": [
          [
           "Rijksmuseum",
           "Amsterdam"
          ],
          [
           "Van Gogh Museum",
           "Amsterdam"
          ]
         ],
         "hovertemplate": "Continent=Central America<br>Wiki languages count=%{x}<br>Visitors per year=%{y}<br>Museum=%{customdata[0]}<br>City=%{customdata[1]}<extra></extra>",
         "legendgroup": "Central America",
         "marker": {
          "color": "#ab63fa",
          "line": {
           "color": "DarkSlateGrey",
           "width": 2
          },
          "size": 12,
          "symbol": "circle"
         },
         "mode": "markers",
         "name": "Central America",
         "orientation": "v",
         "showlegend": true,
         "type": "scatter",
         "x": [
          57,
          52
         ],
         "xaxis": "x",
         "y": [
          2700000,
          2100000
         ],
         "yaxis": "y"
        },
        {
         "hovertemplate": "<b>OLS trendline</b><br>Visitors per year = 120000 * Wiki languages count + -4.14e+06<br>R<sup>2</sup>=1.000000<br><br>Continent=Central America<br>Wiki languages count=%{x}<br>Visitors per year=%{y} <b>(trend)</b><extra></extra>",
         "legendgroup": "Central America",
         "marker": {
          "color": "#ab63fa",
          "symbol": "circle"
         },
         "mode": "lines",
         "name": "Central America",
         "showlegend": false,
         "type": "scatter",
         "x": [
          52,
          57
         ],
         "xaxis": "x",
         "y": [
          2099999.9999999963,
          2699999.9999999944
         ],
         "yaxis": "y"
        },
        {
         "customdata": [
          [
           "Centro Cultural Banco do Brasil",
           "Rio de Janeiro"
          ]
         ],
         "hovertemplate": "Continent=South America<br>Wiki languages count=%{x}<br>Visitors per year=%{y}<br>Museum=%{customdata[0]}<br>City=%{customdata[1]}<extra></extra>",
         "legendgroup": "South America",
         "marker": {
          "color": "#FFA15A",
          "line": {
           "color": "DarkSlateGrey",
           "width": 2
          },
          "size": 12,
          "symbol": "circle"
         },
         "mode": "markers",
         "name": "South America",
         "orientation": "v",
         "showlegend": true,
         "type": "scatter",
         "x": [
          11
         ],
         "xaxis": "x",
         "y": [
          2606999
         ],
         "yaxis": "y"
        },
        {
         "hovertemplate": "Continent=South America<extra></extra>",
         "legendgroup": "South America",
         "marker": {
          "color": "#FFA15A",
          "symbol": "circle"
         },
         "mode": "lines",
         "name": "South America",
         "showlegend": false,
         "type": "scatter",
         "xaxis": "x",
         "yaxis": "y"
        },
        {
         "customdata": [
          [
           "NGV International",
           "Melbourne"
          ]
         ],
         "hovertemplate": "Continent=Oceania<br>Wiki languages count=%{x}<br>Visitors per year=%{y}<br>Museum=%{customdata[0]}<br>City=%{customdata[1]}<extra></extra>",
         "legendgroup": "Oceania",
         "marker": {
          "color": "#19d3f3",
          "line": {
           "color": "DarkSlateGrey",
           "width": 2
          },
          "size": 12,
          "symbol": "circle"
         },
         "mode": "markers",
         "name": "Oceania",
         "orientation": "v",
         "showlegend": true,
         "type": "scatter",
         "x": [
          28
         ],
         "xaxis": "x",
         "y": [
          2432883
         ],
         "yaxis": "y"
        },
        {
         "hovertemplate": "Continent=Oceania<extra></extra>",
         "legendgroup": "Oceania",
         "marker": {
          "color": "#19d3f3",
          "symbol": "circle"
         },
         "mode": "lines",
         "name": "Oceania",
         "showlegend": false,
         "type": "scatter",
         "xaxis": "x",
         "yaxis": "y"
        }
       ],
       "layout": {
        "legend": {
         "title": {
          "text": "Continent"
         },
         "tracegroupgap": 0
        },
        "margin": {
         "t": 60
        },
        "template": {
         "data": {
          "bar": [
           {
            "error_x": {
             "color": "#2a3f5f"
            },
            "error_y": {
             "color": "#2a3f5f"
            },
            "marker": {
             "line": {
              "color": "#E5ECF6",
              "width": 0.5
             }
            },
            "type": "bar"
           }
          ],
          "barpolar": [
           {
            "marker": {
             "line": {
              "color": "#E5ECF6",
              "width": 0.5
             }
            },
            "type": "barpolar"
           }
          ],
          "carpet": [
           {
            "aaxis": {
             "endlinecolor": "#2a3f5f",
             "gridcolor": "white",
             "linecolor": "white",
             "minorgridcolor": "white",
             "startlinecolor": "#2a3f5f"
            },
            "baxis": {
             "endlinecolor": "#2a3f5f",
             "gridcolor": "white",
             "linecolor": "white",
             "minorgridcolor": "white",
             "startlinecolor": "#2a3f5f"
            },
            "type": "carpet"
           }
          ],
          "choropleth": [
           {
            "colorbar": {
             "outlinewidth": 0,
             "ticks": ""
            },
            "type": "choropleth"
           }
          ],
          "contour": [
           {
            "colorbar": {
             "outlinewidth": 0,
             "ticks": ""
            },
            "colorscale": [
             [
              0,
              "#0d0887"
             ],
             [
              0.1111111111111111,
              "#46039f"
             ],
             [
              0.2222222222222222,
              "#7201a8"
             ],
             [
              0.3333333333333333,
              "#9c179e"
             ],
             [
              0.4444444444444444,
              "#bd3786"
             ],
             [
              0.5555555555555556,
              "#d8576b"
             ],
             [
              0.6666666666666666,
              "#ed7953"
             ],
             [
              0.7777777777777778,
              "#fb9f3a"
             ],
             [
              0.8888888888888888,
              "#fdca26"
             ],
             [
              1,
              "#f0f921"
             ]
            ],
            "type": "contour"
           }
          ],
          "contourcarpet": [
           {
            "colorbar": {
             "outlinewidth": 0,
             "ticks": ""
            },
            "type": "contourcarpet"
           }
          ],
          "heatmap": [
           {
            "colorbar": {
             "outlinewidth": 0,
             "ticks": ""
            },
            "colorscale": [
             [
              0,
              "#0d0887"
             ],
             [
              0.1111111111111111,
              "#46039f"
             ],
             [
              0.2222222222222222,
              "#7201a8"
             ],
             [
              0.3333333333333333,
              "#9c179e"
             ],
             [
              0.4444444444444444,
              "#bd3786"
             ],
             [
              0.5555555555555556,
              "#d8576b"
             ],
             [
              0.6666666666666666,
              "#ed7953"
             ],
             [
              0.7777777777777778,
              "#fb9f3a"
             ],
             [
              0.8888888888888888,
              "#fdca26"
             ],
             [
              1,
              "#f0f921"
             ]
            ],
            "type": "heatmap"
           }
          ],
          "heatmapgl": [
           {
            "colorbar": {
             "outlinewidth": 0,
             "ticks": ""
            },
            "colorscale": [
             [
              0,
              "#0d0887"
             ],
             [
              0.1111111111111111,
              "#46039f"
             ],
             [
              0.2222222222222222,
              "#7201a8"
             ],
             [
              0.3333333333333333,
              "#9c179e"
             ],
             [
              0.4444444444444444,
              "#bd3786"
             ],
             [
              0.5555555555555556,
              "#d8576b"
             ],
             [
              0.6666666666666666,
              "#ed7953"
             ],
             [
              0.7777777777777778,
              "#fb9f3a"
             ],
             [
              0.8888888888888888,
              "#fdca26"
             ],
             [
              1,
              "#f0f921"
             ]
            ],
            "type": "heatmapgl"
           }
          ],
          "histogram": [
           {
            "marker": {
             "colorbar": {
              "outlinewidth": 0,
              "ticks": ""
             }
            },
            "type": "histogram"
           }
          ],
          "histogram2d": [
           {
            "colorbar": {
             "outlinewidth": 0,
             "ticks": ""
            },
            "colorscale": [
             [
              0,
              "#0d0887"
             ],
             [
              0.1111111111111111,
              "#46039f"
             ],
             [
              0.2222222222222222,
              "#7201a8"
             ],
             [
              0.3333333333333333,
              "#9c179e"
             ],
             [
              0.4444444444444444,
              "#bd3786"
             ],
             [
              0.5555555555555556,
              "#d8576b"
             ],
             [
              0.6666666666666666,
              "#ed7953"
             ],
             [
              0.7777777777777778,
              "#fb9f3a"
             ],
             [
              0.8888888888888888,
              "#fdca26"
             ],
             [
              1,
              "#f0f921"
             ]
            ],
            "type": "histogram2d"
           }
          ],
          "histogram2dcontour": [
           {
            "colorbar": {
             "outlinewidth": 0,
             "ticks": ""
            },
            "colorscale": [
             [
              0,
              "#0d0887"
             ],
             [
              0.1111111111111111,
              "#46039f"
             ],
             [
              0.2222222222222222,
              "#7201a8"
             ],
             [
              0.3333333333333333,
              "#9c179e"
             ],
             [
              0.4444444444444444,
              "#bd3786"
             ],
             [
              0.5555555555555556,
              "#d8576b"
             ],
             [
              0.6666666666666666,
              "#ed7953"
             ],
             [
              0.7777777777777778,
              "#fb9f3a"
             ],
             [
              0.8888888888888888,
              "#fdca26"
             ],
             [
              1,
              "#f0f921"
             ]
            ],
            "type": "histogram2dcontour"
           }
          ],
          "mesh3d": [
           {
            "colorbar": {
             "outlinewidth": 0,
             "ticks": ""
            },
            "type": "mesh3d"
           }
          ],
          "parcoords": [
           {
            "line": {
             "colorbar": {
              "outlinewidth": 0,
              "ticks": ""
             }
            },
            "type": "parcoords"
           }
          ],
          "pie": [
           {
            "automargin": true,
            "type": "pie"
           }
          ],
          "scatter": [
           {
            "marker": {
             "colorbar": {
              "outlinewidth": 0,
              "ticks": ""
             }
            },
            "type": "scatter"
           }
          ],
          "scatter3d": [
           {
            "line": {
             "colorbar": {
              "outlinewidth": 0,
              "ticks": ""
             }
            },
            "marker": {
             "colorbar": {
              "outlinewidth": 0,
              "ticks": ""
             }
            },
            "type": "scatter3d"
           }
          ],
          "scattercarpet": [
           {
            "marker": {
             "colorbar": {
              "outlinewidth": 0,
              "ticks": ""
             }
            },
            "type": "scattercarpet"
           }
          ],
          "scattergeo": [
           {
            "marker": {
             "colorbar": {
              "outlinewidth": 0,
              "ticks": ""
             }
            },
            "type": "scattergeo"
           }
          ],
          "scattergl": [
           {
            "marker": {
             "colorbar": {
              "outlinewidth": 0,
              "ticks": ""
             }
            },
            "type": "scattergl"
           }
          ],
          "scattermapbox": [
           {
            "marker": {
             "colorbar": {
              "outlinewidth": 0,
              "ticks": ""
             }
            },
            "type": "scattermapbox"
           }
          ],
          "scatterpolar": [
           {
            "marker": {
             "colorbar": {
              "outlinewidth": 0,
              "ticks": ""
             }
            },
            "type": "scatterpolar"
           }
          ],
          "scatterpolargl": [
           {
            "marker": {
             "colorbar": {
              "outlinewidth": 0,
              "ticks": ""
             }
            },
            "type": "scatterpolargl"
           }
          ],
          "scatterternary": [
           {
            "marker": {
             "colorbar": {
              "outlinewidth": 0,
              "ticks": ""
             }
            },
            "type": "scatterternary"
           }
          ],
          "surface": [
           {
            "colorbar": {
             "outlinewidth": 0,
             "ticks": ""
            },
            "colorscale": [
             [
              0,
              "#0d0887"
             ],
             [
              0.1111111111111111,
              "#46039f"
             ],
             [
              0.2222222222222222,
              "#7201a8"
             ],
             [
              0.3333333333333333,
              "#9c179e"
             ],
             [
              0.4444444444444444,
              "#bd3786"
             ],
             [
              0.5555555555555556,
              "#d8576b"
             ],
             [
              0.6666666666666666,
              "#ed7953"
             ],
             [
              0.7777777777777778,
              "#fb9f3a"
             ],
             [
              0.8888888888888888,
              "#fdca26"
             ],
             [
              1,
              "#f0f921"
             ]
            ],
            "type": "surface"
           }
          ],
          "table": [
           {
            "cells": {
             "fill": {
              "color": "#EBF0F8"
             },
             "line": {
              "color": "white"
             }
            },
            "header": {
             "fill": {
              "color": "#C8D4E3"
             },
             "line": {
              "color": "white"
             }
            },
            "type": "table"
           }
          ]
         },
         "layout": {
          "annotationdefaults": {
           "arrowcolor": "#2a3f5f",
           "arrowhead": 0,
           "arrowwidth": 1
          },
          "coloraxis": {
           "colorbar": {
            "outlinewidth": 0,
            "ticks": ""
           }
          },
          "colorscale": {
           "diverging": [
            [
             0,
             "#8e0152"
            ],
            [
             0.1,
             "#c51b7d"
            ],
            [
             0.2,
             "#de77ae"
            ],
            [
             0.3,
             "#f1b6da"
            ],
            [
             0.4,
             "#fde0ef"
            ],
            [
             0.5,
             "#f7f7f7"
            ],
            [
             0.6,
             "#e6f5d0"
            ],
            [
             0.7,
             "#b8e186"
            ],
            [
             0.8,
             "#7fbc41"
            ],
            [
             0.9,
             "#4d9221"
            ],
            [
             1,
             "#276419"
            ]
           ],
           "sequential": [
            [
             0,
             "#0d0887"
            ],
            [
             0.1111111111111111,
             "#46039f"
            ],
            [
             0.2222222222222222,
             "#7201a8"
            ],
            [
             0.3333333333333333,
             "#9c179e"
            ],
            [
             0.4444444444444444,
             "#bd3786"
            ],
            [
             0.5555555555555556,
             "#d8576b"
            ],
            [
             0.6666666666666666,
             "#ed7953"
            ],
            [
             0.7777777777777778,
             "#fb9f3a"
            ],
            [
             0.8888888888888888,
             "#fdca26"
            ],
            [
             1,
             "#f0f921"
            ]
           ],
           "sequentialminus": [
            [
             0,
             "#0d0887"
            ],
            [
             0.1111111111111111,
             "#46039f"
            ],
            [
             0.2222222222222222,
             "#7201a8"
            ],
            [
             0.3333333333333333,
             "#9c179e"
            ],
            [
             0.4444444444444444,
             "#bd3786"
            ],
            [
             0.5555555555555556,
             "#d8576b"
            ],
            [
             0.6666666666666666,
             "#ed7953"
            ],
            [
             0.7777777777777778,
             "#fb9f3a"
            ],
            [
             0.8888888888888888,
             "#fdca26"
            ],
            [
             1,
             "#f0f921"
            ]
           ]
          },
          "colorway": [
           "#636efa",
           "#EF553B",
           "#00cc96",
           "#ab63fa",
           "#FFA15A",
           "#19d3f3",
           "#FF6692",
           "#B6E880",
           "#FF97FF",
           "#FECB52"
          ],
          "font": {
           "color": "#2a3f5f"
          },
          "geo": {
           "bgcolor": "white",
           "lakecolor": "white",
           "landcolor": "#E5ECF6",
           "showlakes": true,
           "showland": true,
           "subunitcolor": "white"
          },
          "hoverlabel": {
           "align": "left"
          },
          "hovermode": "closest",
          "mapbox": {
           "style": "light"
          },
          "paper_bgcolor": "white",
          "plot_bgcolor": "#E5ECF6",
          "polar": {
           "angularaxis": {
            "gridcolor": "white",
            "linecolor": "white",
            "ticks": ""
           },
           "bgcolor": "#E5ECF6",
           "radialaxis": {
            "gridcolor": "white",
            "linecolor": "white",
            "ticks": ""
           }
          },
          "scene": {
           "xaxis": {
            "backgroundcolor": "#E5ECF6",
            "gridcolor": "white",
            "gridwidth": 2,
            "linecolor": "white",
            "showbackground": true,
            "ticks": "",
            "zerolinecolor": "white"
           },
           "yaxis": {
            "backgroundcolor": "#E5ECF6",
            "gridcolor": "white",
            "gridwidth": 2,
            "linecolor": "white",
            "showbackground": true,
            "ticks": "",
            "zerolinecolor": "white"
           },
           "zaxis": {
            "backgroundcolor": "#E5ECF6",
            "gridcolor": "white",
            "gridwidth": 2,
            "linecolor": "white",
            "showbackground": true,
            "ticks": "",
            "zerolinecolor": "white"
           }
          },
          "shapedefaults": {
           "line": {
            "color": "#2a3f5f"
           }
          },
          "ternary": {
           "aaxis": {
            "gridcolor": "white",
            "linecolor": "white",
            "ticks": ""
           },
           "baxis": {
            "gridcolor": "white",
            "linecolor": "white",
            "ticks": ""
           },
           "bgcolor": "#E5ECF6",
           "caxis": {
            "gridcolor": "white",
            "linecolor": "white",
            "ticks": ""
           }
          },
          "title": {
           "x": 0.05
          },
          "xaxis": {
           "automargin": true,
           "gridcolor": "white",
           "linecolor": "white",
           "ticks": "",
           "title": {
            "standoff": 15
           },
           "zerolinecolor": "white",
           "zerolinewidth": 2
          },
          "yaxis": {
           "automargin": true,
           "gridcolor": "white",
           "linecolor": "white",
           "ticks": "",
           "title": {
            "standoff": 15
           },
           "zerolinecolor": "white",
           "zerolinewidth": 2
          }
         }
        },
        "xaxis": {
         "anchor": "y",
         "domain": [
          0,
          1
         ],
         "title": {
          "text": "Wiki languages count"
         }
        },
        "yaxis": {
         "anchor": "x",
         "domain": [
          0,
          1
         ],
         "title": {
          "text": "Visitors per year"
         }
        }
       }
      },
      "text/html": [
       "<div>                            <div id=\"93235f76-a5f0-40b7-8cb8-406b09a841ff\" class=\"plotly-graph-div\" style=\"height:525px; width:100%;\"></div>            <script type=\"text/javascript\">                require([\"plotly\"], function(Plotly) {                    window.PLOTLYENV=window.PLOTLYENV || {};                                    if (document.getElementById(\"93235f76-a5f0-40b7-8cb8-406b09a841ff\")) {                    Plotly.newPlot(                        \"93235f76-a5f0-40b7-8cb8-406b09a841ff\",                        [{\"customdata\": [[\"Louvre\", \"Paris\"], [\"Vatican Museums\", \"Vatican City\"], [\"British Museum\", \"London\"], [\"Tate Modern\", \"London\"], [\"National Gallery\", \"London\"], [\"Natural History Museum\", \"London\"], [\"State Hermitage Museum\", \"Saint Petersburg\"], [\"Museo Reina Sof\\u00eda\", \"Madrid\"], [\"Victoria and Albert Museum\", \"London\"], [\"Mus\\u00e9e d'Orsay\", \"Paris\"], [\"Museo del Prado\", \"Madrid\"], [\"Centre Pompidou\", \"Paris\"], [\"London Science Museum\", \"London\"], [\"Moscow Kremlin Museums\", \"Moscow\"], [\"Royal Museums Greenwich\", \"London\"], [\"Somerset House\", \"London\"], [\"Tretyakov Gallery\", \"Moscow\"], [\"Russian Museum\", \"Saint Petersburg\"], [\"Cit\\u00e9 des Sciences et de l'Industrie\", \"Paris\"], [\"Galleria degli Uffizi\", \"Florence\"], [\"Auschwitz-Birkenau State Museum\", \"O\\u015bwi\\u0119cim\"], [\"National Museum of Scotland\", \"Edinburgh\"]], \"hovertemplate\": \"Continent=Europe<br>Wiki languages count=%{x}<br>Visitors per year=%{y}<br>Museum=%{customdata[0]}<br>City=%{customdata[1]}<extra></extra>\", \"legendgroup\": \"Europe\", \"marker\": {\"color\": \"#636efa\", \"line\": {\"color\": \"DarkSlateGrey\", \"width\": 2}, \"size\": 12, \"symbol\": \"circle\"}, \"mode\": \"markers\", \"name\": \"Europe\", \"orientation\": \"v\", \"showlegend\": true, \"type\": \"scatter\", \"x\": [152, 56, 92, 53, 64, 50, 75, 42, 54, 122, 71, 57, 39, 6, 4, 27, 54, 44, 21, 67, 15, 24], \"xaxis\": \"x\", \"y\": [9600000, 6882931, 6239983, 6098340, 6011007, 5424000, 4956529, 4425699, 3932938, 3651616, 3497345, 3273867, 3254000, 3101550, 2906000, 2841772, 2835836, 2394400, 2370000, 2361732, 2320000, 2210024], \"yaxis\": \"y\"}, {\"hovertemplate\": \"<b>OLS trendline</b><br>Visitors per year = 35879.4 * Wiki languages count + 2.17859e+06<br>R<sup>2</sup>=0.443638<br><br>Continent=Europe<br>Wiki languages count=%{x}<br>Visitors per year=%{y} <b>(trend)</b><extra></extra>\", \"legendgroup\": \"Europe\", \"marker\": {\"color\": \"#636efa\", \"symbol\": \"circle\"}, \"mode\": \"lines\", \"name\": \"Europe\", \"showlegend\": false, \"type\": \"scatter\", \"x\": [4, 6, 15, 21, 24, 27, 39, 42, 44, 50, 53, 54, 54, 56, 57, 64, 67, 71, 75, 92, 122, 152], \"xaxis\": \"x\", \"y\": [2322109.121572436, 2393867.8287938824, 2716782.011290393, 2932058.1329547325, 3039696.193786903, 3147334.254619073, 3577886.4979477534, 3685524.5587799232, 3757283.26600137, 3972559.3876657104, 4080197.4484978803, 4116076.8021086035, 4116076.8021086035, 4187835.50933005, 4223714.862940773, 4474870.338215837, 4582508.399048008, 4726025.813490901, 4869543.227933794, 5479492.239316091, 6555872.847637791, 7632253.455959493], \"yaxis\": \"y\"}, {\"customdata\": [[\"National Museum of China\", \"Beijing\"], [\"Shanghai Science and Technology Museum\", \"Shanghai\"], [\"Guangdong Museum of Revolutionary History\", \"Guangzhou\"], [\"Nanjing Museum\", \"Nanjing\"], [\"Zhejiang Museum\", \"Hangzhou\"], [\"China Science and Technology Museum\", \"Beijing\"], [\"Military Museum of the Chinese People's Revolution\", \"Beijing\"], [\"National Palace Museum\", \"Taipei\"], [\"Shenzhen Museum\", \"Shenzhen\"], [\"Mevlana Museum\", \"Konya\"], [\"Xi'an Museum\\u00a0\", \"Xi'an\"], [\"National Museum of Korea\", \"Seoul\"], [\"Tianjin Natural History Museum\", \"Tianjin\"], [\"Hunan Museum\", \"Changsha\"], [\"National Taiwan Science Education Center\", \"Taipei\"], [\"Shaanxi History Museum\", \"Xi'an\"], [\"Tokyo Metropolitan Art Museum\", \"Tokyo\"], [\"Tokyo National Museum\", \"Tokyo\"], [\"National Museum of Natural Science\", \"Taichung\"], [\"Chongqing Museum of Natural History\", \"Chongqing\"], [\"Shanghai Natural History Museum\", \"Shanghai\"], [\"National Museum of Nature and Science\", \"Tokyo\"], [\"Zhejiang Museum of Natural History\", \"Hangzhou\"], [\"Hubei Provincial Museum\", \"Wuhan\"], [\"Inner Mongolia Museum\", \"Hohhot\"], [\"Three Gorges Museum\", \"Chongqing\"], [\"National Folk Museum of Korea\", \"Seoul\"], [\"Liaoning Provincial Museum\", \"Shenyang\"], [\"Chengdu Museum\\u00a0\", \"Chengdu\"], [\"Guangdong Museum\", \"Guangzhou\"], [\"Wenzhou Museum\\u00a0\", \"Wenzhou\"], [\"Shanghai Museum\", \"Shanghai\"], [\"Suzhou Museum\", \"Suzhou\"]], \"hovertemplate\": \"Continent=Asia<br>Wiki languages count=%{x}<br>Visitors per year=%{y}<br>Museum=%{customdata[0]}<br>City=%{customdata[1]}<extra></extra>\", \"legendgroup\": \"Asia\", \"marker\": {\"color\": \"#EF553B\", \"line\": {\"color\": \"DarkSlateGrey\", \"width\": 2}, \"size\": 12, \"symbol\": \"circle\"}, \"mode\": \"markers\", \"name\": \"Asia\", \"orientation\": \"v\", \"showlegend\": true, \"type\": \"scatter\", \"x\": [30, 9, 5, 18, 8, 6, 12, 37, 4, 15, 0, 31, 4, 10, 4, 12, 13, 45, 7, 5, 9, 22, 7, 9, 8, 7, 18, 8, 0, 8, 0, 28, 9], \"xaxis\": \"x\", \"y\": [7390000, 4824000, 4257100, 4169000, 4150000, 3891000, 3870000, 3832373, 3826000, 3464155, 3420000, 3354161, 3150000, 3140000, 3000000, 2900000, 2873806, 2684754, 2650000, 2624700, 2549000, 2460000, 2443000, 2400000, 2361000, 2301900, 2286276, 2280000, 2259000, 2234800, 2229900, 2070270, 2030000], \"yaxis\": \"y\"}, {\"hovertemplate\": \"<b>OLS trendline</b><br>Visitors per year = 22359.2 * Wiki languages count + 2.85617e+06<br>R<sup>2</sup>=0.051234<br><br>Continent=Asia<br>Wiki languages count=%{x}<br>Visitors per year=%{y} <b>(trend)</b><extra></extra>\", \"legendgroup\": \"Asia\", \"marker\": {\"color\": \"#EF553B\", \"symbol\": \"circle\"}, \"mode\": \"lines\", \"name\": \"Asia\", \"showlegend\": false, \"type\": \"scatter\", \"x\": [0, 0, 0, 4, 4, 4, 5, 5, 6, 7, 7, 7, 8, 8, 8, 8, 9, 9, 9, 9, 10, 12, 12, 13, 15, 18, 18, 22, 28, 30, 31, 37, 45], \"xaxis\": \"x\", \"y\": [2856170.8990980545, 2856170.8990980545, 2856170.8990980545, 2945607.7160565266, 2945607.7160565266, 2945607.7160565266, 2967966.9202961447, 2967966.9202961447, 2990326.1245357627, 3012685.3287753807, 3012685.3287753807, 3012685.3287753807, 3035044.533014999, 3035044.533014999, 3035044.533014999, 3035044.533014999, 3057403.7372546173, 3057403.7372546173, 3057403.7372546173, 3057403.7372546173, 3079762.9414942353, 3124481.3499734714, 3124481.3499734714, 3146840.5542130894, 3191558.9626923255, 3258636.5754111796, 3258636.5754111796, 3348073.3923696517, 3482228.6178073604, 3526947.0262865964, 3549306.2305262145, 3683461.4559639227, 3862335.0898808674], \"yaxis\": \"y\"}, {\"customdata\": [[\"Metropolitan Museum of Art\", \"New York City\"], [\"American Museum of Natural History\", \"New York City\"], [\"National Museum of Natural History\", \"Washington, D.C.\"], [\"National Gallery of Art\", \"Washington, D.C.\"], [\"National Air and Space Museum\", \"Washington, D.C.\"], [\"National Museum of Anthropology\", \"Mexico City\"], [\"National Museum of History\", \"Mexico City\"], [\"National Museum of American History\", \"Washington, D.C.\"], [\"California Science Center\", \"Los Angeles\"], [\"National Museum of African American History and Culture\", \"Washington, D.C.\"]], \"hovertemplate\": \"Continent=North America<br>Wiki languages count=%{x}<br>Visitors per year=%{y}<br>Museum=%{customdata[0]}<br>City=%{customdata[1]}<extra></extra>\", \"legendgroup\": \"North America\", \"marker\": {\"color\": \"#00cc96\", \"line\": {\"color\": \"DarkSlateGrey\", \"width\": 2}, \"size\": 12, \"symbol\": \"circle\"}, \"mode\": \"markers\", \"name\": \"North America\", \"orientation\": \"v\", \"showlegend\": true, \"type\": \"scatter\", \"x\": [75, 48, 37, 49, 32, 35, 4, 24, 7, 11], \"xaxis\": \"x\", \"y\": [6479548, 5000000, 4200000, 4074403, 3200000, 3086555, 2811646, 2800000, 2200000, 2000000], \"yaxis\": \"y\"}, {\"hovertemplate\": \"<b>OLS trendline</b><br>Visitors per year = 58238.6 * Wiki languages count + 1.70993e+06<br>R<sup>2</sup>=0.864185<br><br>Continent=North America<br>Wiki languages count=%{x}<br>Visitors per year=%{y} <b>(trend)</b><extra></extra>\", \"legendgroup\": \"North America\", \"marker\": {\"color\": \"#00cc96\", \"symbol\": \"circle\"}, \"mode\": \"lines\", \"name\": \"North America\", \"showlegend\": false, \"type\": \"scatter\", \"x\": [4, 7, 11, 24, 32, 35, 37, 48, 49, 75], \"xaxis\": \"x\", \"y\": [1942887.6163626309, 2117603.316749585, 2350557.5839321907, 3107658.952275658, 3573567.486640869, 3748283.187027823, 3864760.320619126, 4505384.555371291, 4563623.122166943, 6077825.858853878], \"yaxis\": \"y\"}, {\"customdata\": [[\"Rijksmuseum\", \"Amsterdam\"], [\"Van Gogh Museum\", \"Amsterdam\"]], \"hovertemplate\": \"Continent=Central America<br>Wiki languages count=%{x}<br>Visitors per year=%{y}<br>Museum=%{customdata[0]}<br>City=%{customdata[1]}<extra></extra>\", \"legendgroup\": \"Central America\", \"marker\": {\"color\": \"#ab63fa\", \"line\": {\"color\": \"DarkSlateGrey\", \"width\": 2}, \"size\": 12, \"symbol\": \"circle\"}, \"mode\": \"markers\", \"name\": \"Central America\", \"orientation\": \"v\", \"showlegend\": true, \"type\": \"scatter\", \"x\": [57, 52], \"xaxis\": \"x\", \"y\": [2700000, 2100000], \"yaxis\": \"y\"}, {\"hovertemplate\": \"<b>OLS trendline</b><br>Visitors per year = 120000 * Wiki languages count + -4.14e+06<br>R<sup>2</sup>=1.000000<br><br>Continent=Central America<br>Wiki languages count=%{x}<br>Visitors per year=%{y} <b>(trend)</b><extra></extra>\", \"legendgroup\": \"Central America\", \"marker\": {\"color\": \"#ab63fa\", \"symbol\": \"circle\"}, \"mode\": \"lines\", \"name\": \"Central America\", \"showlegend\": false, \"type\": \"scatter\", \"x\": [52, 57], \"xaxis\": \"x\", \"y\": [2099999.9999999963, 2699999.9999999944], \"yaxis\": \"y\"}, {\"customdata\": [[\"Centro Cultural Banco do Brasil\", \"Rio de Janeiro\"]], \"hovertemplate\": \"Continent=South America<br>Wiki languages count=%{x}<br>Visitors per year=%{y}<br>Museum=%{customdata[0]}<br>City=%{customdata[1]}<extra></extra>\", \"legendgroup\": \"South America\", \"marker\": {\"color\": \"#FFA15A\", \"line\": {\"color\": \"DarkSlateGrey\", \"width\": 2}, \"size\": 12, \"symbol\": \"circle\"}, \"mode\": \"markers\", \"name\": \"South America\", \"orientation\": \"v\", \"showlegend\": true, \"type\": \"scatter\", \"x\": [11], \"xaxis\": \"x\", \"y\": [2606999], \"yaxis\": \"y\"}, {\"hovertemplate\": \"Continent=South America<extra></extra>\", \"legendgroup\": \"South America\", \"marker\": {\"color\": \"#FFA15A\", \"symbol\": \"circle\"}, \"mode\": \"lines\", \"name\": \"South America\", \"showlegend\": false, \"type\": \"scatter\", \"xaxis\": \"x\", \"yaxis\": \"y\"}, {\"customdata\": [[\"NGV International\", \"Melbourne\"]], \"hovertemplate\": \"Continent=Oceania<br>Wiki languages count=%{x}<br>Visitors per year=%{y}<br>Museum=%{customdata[0]}<br>City=%{customdata[1]}<extra></extra>\", \"legendgroup\": \"Oceania\", \"marker\": {\"color\": \"#19d3f3\", \"line\": {\"color\": \"DarkSlateGrey\", \"width\": 2}, \"size\": 12, \"symbol\": \"circle\"}, \"mode\": \"markers\", \"name\": \"Oceania\", \"orientation\": \"v\", \"showlegend\": true, \"type\": \"scatter\", \"x\": [28], \"xaxis\": \"x\", \"y\": [2432883], \"yaxis\": \"y\"}, {\"hovertemplate\": \"Continent=Oceania<extra></extra>\", \"legendgroup\": \"Oceania\", \"marker\": {\"color\": \"#19d3f3\", \"symbol\": \"circle\"}, \"mode\": \"lines\", \"name\": \"Oceania\", \"showlegend\": false, \"type\": \"scatter\", \"xaxis\": \"x\", \"yaxis\": \"y\"}],                        {\"legend\": {\"title\": {\"text\": \"Continent\"}, \"tracegroupgap\": 0}, \"margin\": {\"t\": 60}, \"template\": {\"data\": {\"bar\": [{\"error_x\": {\"color\": \"#2a3f5f\"}, \"error_y\": {\"color\": \"#2a3f5f\"}, \"marker\": {\"line\": {\"color\": \"#E5ECF6\", \"width\": 0.5}}, \"type\": \"bar\"}], \"barpolar\": [{\"marker\": {\"line\": {\"color\": \"#E5ECF6\", \"width\": 0.5}}, \"type\": \"barpolar\"}], \"carpet\": [{\"aaxis\": {\"endlinecolor\": \"#2a3f5f\", \"gridcolor\": \"white\", \"linecolor\": \"white\", \"minorgridcolor\": \"white\", \"startlinecolor\": \"#2a3f5f\"}, \"baxis\": {\"endlinecolor\": \"#2a3f5f\", \"gridcolor\": \"white\", \"linecolor\": \"white\", \"minorgridcolor\": \"white\", \"startlinecolor\": \"#2a3f5f\"}, \"type\": \"carpet\"}], \"choropleth\": [{\"colorbar\": {\"outlinewidth\": 0, \"ticks\": \"\"}, \"type\": \"choropleth\"}], \"contour\": [{\"colorbar\": {\"outlinewidth\": 0, \"ticks\": \"\"}, \"colorscale\": [[0.0, \"#0d0887\"], [0.1111111111111111, \"#46039f\"], [0.2222222222222222, \"#7201a8\"], [0.3333333333333333, \"#9c179e\"], [0.4444444444444444, \"#bd3786\"], [0.5555555555555556, \"#d8576b\"], [0.6666666666666666, \"#ed7953\"], [0.7777777777777778, \"#fb9f3a\"], [0.8888888888888888, \"#fdca26\"], [1.0, \"#f0f921\"]], \"type\": \"contour\"}], \"contourcarpet\": [{\"colorbar\": {\"outlinewidth\": 0, \"ticks\": \"\"}, \"type\": \"contourcarpet\"}], \"heatmap\": [{\"colorbar\": {\"outlinewidth\": 0, \"ticks\": \"\"}, \"colorscale\": [[0.0, \"#0d0887\"], [0.1111111111111111, \"#46039f\"], [0.2222222222222222, \"#7201a8\"], [0.3333333333333333, \"#9c179e\"], [0.4444444444444444, \"#bd3786\"], [0.5555555555555556, \"#d8576b\"], [0.6666666666666666, \"#ed7953\"], [0.7777777777777778, \"#fb9f3a\"], [0.8888888888888888, \"#fdca26\"], [1.0, \"#f0f921\"]], \"type\": \"heatmap\"}], \"heatmapgl\": [{\"colorbar\": {\"outlinewidth\": 0, \"ticks\": \"\"}, \"colorscale\": [[0.0, \"#0d0887\"], [0.1111111111111111, \"#46039f\"], [0.2222222222222222, \"#7201a8\"], [0.3333333333333333, \"#9c179e\"], [0.4444444444444444, \"#bd3786\"], [0.5555555555555556, \"#d8576b\"], [0.6666666666666666, \"#ed7953\"], [0.7777777777777778, \"#fb9f3a\"], [0.8888888888888888, \"#fdca26\"], [1.0, \"#f0f921\"]], \"type\": \"heatmapgl\"}], \"histogram\": [{\"marker\": {\"colorbar\": {\"outlinewidth\": 0, \"ticks\": \"\"}}, \"type\": \"histogram\"}], \"histogram2d\": [{\"colorbar\": {\"outlinewidth\": 0, \"ticks\": \"\"}, \"colorscale\": [[0.0, \"#0d0887\"], [0.1111111111111111, \"#46039f\"], [0.2222222222222222, \"#7201a8\"], [0.3333333333333333, \"#9c179e\"], [0.4444444444444444, \"#bd3786\"], [0.5555555555555556, \"#d8576b\"], [0.6666666666666666, \"#ed7953\"], [0.7777777777777778, \"#fb9f3a\"], [0.8888888888888888, \"#fdca26\"], [1.0, \"#f0f921\"]], \"type\": \"histogram2d\"}], \"histogram2dcontour\": [{\"colorbar\": {\"outlinewidth\": 0, \"ticks\": \"\"}, \"colorscale\": [[0.0, \"#0d0887\"], [0.1111111111111111, \"#46039f\"], [0.2222222222222222, \"#7201a8\"], [0.3333333333333333, \"#9c179e\"], [0.4444444444444444, \"#bd3786\"], [0.5555555555555556, \"#d8576b\"], [0.6666666666666666, \"#ed7953\"], [0.7777777777777778, \"#fb9f3a\"], [0.8888888888888888, \"#fdca26\"], [1.0, \"#f0f921\"]], \"type\": \"histogram2dcontour\"}], \"mesh3d\": [{\"colorbar\": {\"outlinewidth\": 0, \"ticks\": \"\"}, \"type\": \"mesh3d\"}], \"parcoords\": [{\"line\": {\"colorbar\": {\"outlinewidth\": 0, \"ticks\": \"\"}}, \"type\": \"parcoords\"}], \"pie\": [{\"automargin\": true, \"type\": \"pie\"}], \"scatter\": [{\"marker\": {\"colorbar\": {\"outlinewidth\": 0, \"ticks\": \"\"}}, \"type\": \"scatter\"}], \"scatter3d\": [{\"line\": {\"colorbar\": {\"outlinewidth\": 0, \"ticks\": \"\"}}, \"marker\": {\"colorbar\": {\"outlinewidth\": 0, \"ticks\": \"\"}}, \"type\": \"scatter3d\"}], \"scattercarpet\": [{\"marker\": {\"colorbar\": {\"outlinewidth\": 0, \"ticks\": \"\"}}, \"type\": \"scattercarpet\"}], \"scattergeo\": [{\"marker\": {\"colorbar\": {\"outlinewidth\": 0, \"ticks\": \"\"}}, \"type\": \"scattergeo\"}], \"scattergl\": [{\"marker\": {\"colorbar\": {\"outlinewidth\": 0, \"ticks\": \"\"}}, \"type\": \"scattergl\"}], \"scattermapbox\": [{\"marker\": {\"colorbar\": {\"outlinewidth\": 0, \"ticks\": \"\"}}, \"type\": \"scattermapbox\"}], \"scatterpolar\": [{\"marker\": {\"colorbar\": {\"outlinewidth\": 0, \"ticks\": \"\"}}, \"type\": \"scatterpolar\"}], \"scatterpolargl\": [{\"marker\": {\"colorbar\": {\"outlinewidth\": 0, \"ticks\": \"\"}}, \"type\": \"scatterpolargl\"}], \"scatterternary\": [{\"marker\": {\"colorbar\": {\"outlinewidth\": 0, \"ticks\": \"\"}}, \"type\": \"scatterternary\"}], \"surface\": [{\"colorbar\": {\"outlinewidth\": 0, \"ticks\": \"\"}, \"colorscale\": [[0.0, \"#0d0887\"], [0.1111111111111111, \"#46039f\"], [0.2222222222222222, \"#7201a8\"], [0.3333333333333333, \"#9c179e\"], [0.4444444444444444, \"#bd3786\"], [0.5555555555555556, \"#d8576b\"], [0.6666666666666666, \"#ed7953\"], [0.7777777777777778, \"#fb9f3a\"], [0.8888888888888888, \"#fdca26\"], [1.0, \"#f0f921\"]], \"type\": \"surface\"}], \"table\": [{\"cells\": {\"fill\": {\"color\": \"#EBF0F8\"}, \"line\": {\"color\": \"white\"}}, \"header\": {\"fill\": {\"color\": \"#C8D4E3\"}, \"line\": {\"color\": \"white\"}}, \"type\": \"table\"}]}, \"layout\": {\"annotationdefaults\": {\"arrowcolor\": \"#2a3f5f\", \"arrowhead\": 0, \"arrowwidth\": 1}, \"coloraxis\": {\"colorbar\": {\"outlinewidth\": 0, \"ticks\": \"\"}}, \"colorscale\": {\"diverging\": [[0, \"#8e0152\"], [0.1, \"#c51b7d\"], [0.2, \"#de77ae\"], [0.3, \"#f1b6da\"], [0.4, \"#fde0ef\"], [0.5, \"#f7f7f7\"], [0.6, \"#e6f5d0\"], [0.7, \"#b8e186\"], [0.8, \"#7fbc41\"], [0.9, \"#4d9221\"], [1, \"#276419\"]], \"sequential\": [[0.0, \"#0d0887\"], [0.1111111111111111, \"#46039f\"], [0.2222222222222222, \"#7201a8\"], [0.3333333333333333, \"#9c179e\"], [0.4444444444444444, \"#bd3786\"], [0.5555555555555556, \"#d8576b\"], [0.6666666666666666, \"#ed7953\"], [0.7777777777777778, \"#fb9f3a\"], [0.8888888888888888, \"#fdca26\"], [1.0, \"#f0f921\"]], \"sequentialminus\": [[0.0, \"#0d0887\"], [0.1111111111111111, \"#46039f\"], [0.2222222222222222, \"#7201a8\"], [0.3333333333333333, \"#9c179e\"], [0.4444444444444444, \"#bd3786\"], [0.5555555555555556, \"#d8576b\"], [0.6666666666666666, \"#ed7953\"], [0.7777777777777778, \"#fb9f3a\"], [0.8888888888888888, \"#fdca26\"], [1.0, \"#f0f921\"]]}, \"colorway\": [\"#636efa\", \"#EF553B\", \"#00cc96\", \"#ab63fa\", \"#FFA15A\", \"#19d3f3\", \"#FF6692\", \"#B6E880\", \"#FF97FF\", \"#FECB52\"], \"font\": {\"color\": \"#2a3f5f\"}, \"geo\": {\"bgcolor\": \"white\", \"lakecolor\": \"white\", \"landcolor\": \"#E5ECF6\", \"showlakes\": true, \"showland\": true, \"subunitcolor\": \"white\"}, \"hoverlabel\": {\"align\": \"left\"}, \"hovermode\": \"closest\", \"mapbox\": {\"style\": \"light\"}, \"paper_bgcolor\": \"white\", \"plot_bgcolor\": \"#E5ECF6\", \"polar\": {\"angularaxis\": {\"gridcolor\": \"white\", \"linecolor\": \"white\", \"ticks\": \"\"}, \"bgcolor\": \"#E5ECF6\", \"radialaxis\": {\"gridcolor\": \"white\", \"linecolor\": \"white\", \"ticks\": \"\"}}, \"scene\": {\"xaxis\": {\"backgroundcolor\": \"#E5ECF6\", \"gridcolor\": \"white\", \"gridwidth\": 2, \"linecolor\": \"white\", \"showbackground\": true, \"ticks\": \"\", \"zerolinecolor\": \"white\"}, \"yaxis\": {\"backgroundcolor\": \"#E5ECF6\", \"gridcolor\": \"white\", \"gridwidth\": 2, \"linecolor\": \"white\", \"showbackground\": true, \"ticks\": \"\", \"zerolinecolor\": \"white\"}, \"zaxis\": {\"backgroundcolor\": \"#E5ECF6\", \"gridcolor\": \"white\", \"gridwidth\": 2, \"linecolor\": \"white\", \"showbackground\": true, \"ticks\": \"\", \"zerolinecolor\": \"white\"}}, \"shapedefaults\": {\"line\": {\"color\": \"#2a3f5f\"}}, \"ternary\": {\"aaxis\": {\"gridcolor\": \"white\", \"linecolor\": \"white\", \"ticks\": \"\"}, \"baxis\": {\"gridcolor\": \"white\", \"linecolor\": \"white\", \"ticks\": \"\"}, \"bgcolor\": \"#E5ECF6\", \"caxis\": {\"gridcolor\": \"white\", \"linecolor\": \"white\", \"ticks\": \"\"}}, \"title\": {\"x\": 0.05}, \"xaxis\": {\"automargin\": true, \"gridcolor\": \"white\", \"linecolor\": \"white\", \"ticks\": \"\", \"title\": {\"standoff\": 15}, \"zerolinecolor\": \"white\", \"zerolinewidth\": 2}, \"yaxis\": {\"automargin\": true, \"gridcolor\": \"white\", \"linecolor\": \"white\", \"ticks\": \"\", \"title\": {\"standoff\": 15}, \"zerolinecolor\": \"white\", \"zerolinewidth\": 2}}}, \"xaxis\": {\"anchor\": \"y\", \"domain\": [0.0, 1.0], \"title\": {\"text\": \"Wiki languages count\"}}, \"yaxis\": {\"anchor\": \"x\", \"domain\": [0.0, 1.0], \"title\": {\"text\": \"Visitors per year\"}}},                        {\"responsive\": true}                    ).then(function(){\n",
       "                            \n",
       "var gd = document.getElementById('93235f76-a5f0-40b7-8cb8-406b09a841ff');\n",
       "var x = new MutationObserver(function (mutations, observer) {{\n",
       "        var display = window.getComputedStyle(gd).display;\n",
       "        if (!display || display === 'none') {{\n",
       "            console.log([gd, 'removed!']);\n",
       "            Plotly.purge(gd);\n",
       "            observer.disconnect();\n",
       "        }}\n",
       "}});\n",
       "\n",
       "// Listen for the removal of the full notebook cells\n",
       "var notebookContainer = gd.closest('#notebook-container');\n",
       "if (notebookContainer) {{\n",
       "    x.observe(notebookContainer, {childList: true});\n",
       "}}\n",
       "\n",
       "// Listen for the clearing of the current output cell\n",
       "var outputEl = gd.closest('.output');\n",
       "if (outputEl) {{\n",
       "    x.observe(outputEl, {childList: true});\n",
       "}}\n",
       "\n",
       "                        })                };                });            </script>        </div>"
      ]
     },
     "metadata": {},
     "output_type": "display_data"
    }
   ],
   "source": [
    "import plotly.express as px\n",
    "\n",
    "fig = px.scatter(df, y='Visitors per year', x='Wiki languages count', hover_data=['Museum', 'City'], color='Continent', trendline=\"ols\")\n",
    "fig.update_traces(marker=dict(size=12,line=dict(width=2, color='DarkSlateGrey')), selector=dict(mode='markers'))\n",
    "fig.show()"
   ]
  }
 ],
 "metadata": {
  "kernelspec": {
   "display_name": "Python 3",
   "language": "python",
   "name": "python3"
  },
  "language_info": {
   "codemirror_mode": {
    "name": "ipython",
    "version": 3
   },
   "file_extension": ".py",
   "mimetype": "text/x-python",
   "name": "python",
   "nbconvert_exporter": "python",
   "pygments_lexer": "ipython3",
   "version": "3.8.6"
  }
 },
 "nbformat": 4,
 "nbformat_minor": 4
}
